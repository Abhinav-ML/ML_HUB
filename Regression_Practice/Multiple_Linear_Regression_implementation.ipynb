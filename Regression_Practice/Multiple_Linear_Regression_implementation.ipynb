{
 "cells": [
  {
   "cell_type": "markdown",
   "id": "d30f58ee",
   "metadata": {},
   "source": [
    "# Dataset : \n",
    "https://www.kaggle.com/datasets/mirichoi0218/insurance"
   ]
  },
  {
   "cell_type": "code",
   "execution_count": 1,
   "id": "a75cf8dd",
   "metadata": {},
   "outputs": [],
   "source": [
    "import pandas as pd\n",
    "import matplotlib.pyplot as plt\n",
    "import seaborn as sns"
   ]
  },
  {
   "cell_type": "code",
   "execution_count": 2,
   "id": "9596ebb5",
   "metadata": {},
   "outputs": [],
   "source": [
    "data = pd.read_csv('S07_datasets_13720_18513_insurance.csv')"
   ]
  },
  {
   "cell_type": "code",
   "execution_count": 3,
   "id": "a364364e",
   "metadata": {},
   "outputs": [
    {
     "data": {
      "text/html": [
       "<div>\n",
       "<style scoped>\n",
       "    .dataframe tbody tr th:only-of-type {\n",
       "        vertical-align: middle;\n",
       "    }\n",
       "\n",
       "    .dataframe tbody tr th {\n",
       "        vertical-align: top;\n",
       "    }\n",
       "\n",
       "    .dataframe thead th {\n",
       "        text-align: right;\n",
       "    }\n",
       "</style>\n",
       "<table border=\"1\" class=\"dataframe\">\n",
       "  <thead>\n",
       "    <tr style=\"text-align: right;\">\n",
       "      <th></th>\n",
       "      <th>age</th>\n",
       "      <th>sex</th>\n",
       "      <th>bmi</th>\n",
       "      <th>children</th>\n",
       "      <th>smoker</th>\n",
       "      <th>region</th>\n",
       "      <th>charges</th>\n",
       "    </tr>\n",
       "  </thead>\n",
       "  <tbody>\n",
       "    <tr>\n",
       "      <th>0</th>\n",
       "      <td>19</td>\n",
       "      <td>female</td>\n",
       "      <td>27.900</td>\n",
       "      <td>0</td>\n",
       "      <td>yes</td>\n",
       "      <td>southwest</td>\n",
       "      <td>16884.92400</td>\n",
       "    </tr>\n",
       "    <tr>\n",
       "      <th>1</th>\n",
       "      <td>18</td>\n",
       "      <td>male</td>\n",
       "      <td>33.770</td>\n",
       "      <td>1</td>\n",
       "      <td>no</td>\n",
       "      <td>southeast</td>\n",
       "      <td>1725.55230</td>\n",
       "    </tr>\n",
       "    <tr>\n",
       "      <th>2</th>\n",
       "      <td>28</td>\n",
       "      <td>male</td>\n",
       "      <td>33.000</td>\n",
       "      <td>3</td>\n",
       "      <td>no</td>\n",
       "      <td>southeast</td>\n",
       "      <td>4449.46200</td>\n",
       "    </tr>\n",
       "    <tr>\n",
       "      <th>3</th>\n",
       "      <td>33</td>\n",
       "      <td>male</td>\n",
       "      <td>22.705</td>\n",
       "      <td>0</td>\n",
       "      <td>no</td>\n",
       "      <td>northwest</td>\n",
       "      <td>21984.47061</td>\n",
       "    </tr>\n",
       "    <tr>\n",
       "      <th>4</th>\n",
       "      <td>32</td>\n",
       "      <td>male</td>\n",
       "      <td>28.880</td>\n",
       "      <td>0</td>\n",
       "      <td>no</td>\n",
       "      <td>northwest</td>\n",
       "      <td>3866.85520</td>\n",
       "    </tr>\n",
       "  </tbody>\n",
       "</table>\n",
       "</div>"
      ],
      "text/plain": [
       "   age     sex     bmi  children smoker     region      charges\n",
       "0   19  female  27.900         0    yes  southwest  16884.92400\n",
       "1   18    male  33.770         1     no  southeast   1725.55230\n",
       "2   28    male  33.000         3     no  southeast   4449.46200\n",
       "3   33    male  22.705         0     no  northwest  21984.47061\n",
       "4   32    male  28.880         0     no  northwest   3866.85520"
      ]
     },
     "execution_count": 3,
     "metadata": {},
     "output_type": "execute_result"
    }
   ],
   "source": [
    "data.head()"
   ]
  },
  {
   "cell_type": "code",
   "execution_count": 4,
   "id": "be9dfbb4",
   "metadata": {},
   "outputs": [
    {
     "data": {
      "text/plain": [
       "age         0\n",
       "sex         0\n",
       "bmi         0\n",
       "children    0\n",
       "smoker      0\n",
       "region      0\n",
       "charges     0\n",
       "dtype: int64"
      ]
     },
     "execution_count": 4,
     "metadata": {},
     "output_type": "execute_result"
    }
   ],
   "source": [
    "# checking whether data is having null value or not\n",
    "# pd.isnull(data)\n",
    "pd.isnull(data).sum()"
   ]
  },
  {
   "cell_type": "markdown",
   "id": "e6fd465e",
   "metadata": {},
   "source": [
    "# Separating feature and target value"
   ]
  },
  {
   "cell_type": "code",
   "execution_count": 5,
   "id": "dec9908b",
   "metadata": {},
   "outputs": [],
   "source": [
    "X = data.iloc[:,:-1]\n",
    "# type(X)"
   ]
  },
  {
   "cell_type": "code",
   "execution_count": 6,
   "id": "ce41c037",
   "metadata": {},
   "outputs": [],
   "source": [
    "Y = data.iloc[:,-1]"
   ]
  },
  {
   "cell_type": "markdown",
   "id": "a8d1f814",
   "metadata": {},
   "source": [
    "# One hot encoding"
   ]
  },
  {
   "cell_type": "code",
   "execution_count": 7,
   "id": "ed4c002a",
   "metadata": {},
   "outputs": [],
   "source": [
    "from sklearn.preprocessing import OneHotEncoder\n",
    "from sklearn.compose import ColumnTransformer"
   ]
  },
  {
   "cell_type": "code",
   "execution_count": 8,
   "id": "e6bb26e8",
   "metadata": {},
   "outputs": [],
   "source": [
    "ColumnTransformer = ColumnTransformer([('encoder', OneHotEncoder(),[1,4,5])], remainder = 'passthrough')"
   ]
  },
  {
   "cell_type": "code",
   "execution_count": 9,
   "id": "bcd23abb",
   "metadata": {},
   "outputs": [],
   "source": [
    "X = ColumnTransformer.fit_transform(X)"
   ]
  },
  {
   "cell_type": "markdown",
   "id": "9886d3a8",
   "metadata": {},
   "source": [
    "# Train-Test Split"
   ]
  },
  {
   "cell_type": "code",
   "execution_count": 10,
   "id": "aa42c05d",
   "metadata": {},
   "outputs": [],
   "source": [
    "import numpy as np\n",
    "from sklearn.model_selection import train_test_split"
   ]
  },
  {
   "cell_type": "code",
   "execution_count": 11,
   "id": "6454c700",
   "metadata": {},
   "outputs": [],
   "source": [
    "X_train, X_test, y_train, y_test = train_test_split(X, Y, test_size=0.20, random_state = 1)"
   ]
  },
  {
   "cell_type": "markdown",
   "id": "34b5e0d5",
   "metadata": {},
   "source": [
    "# Building Linear Model"
   ]
  },
  {
   "cell_type": "code",
   "execution_count": 12,
   "id": "5f7cdb60",
   "metadata": {},
   "outputs": [],
   "source": [
    "from sklearn.linear_model import LinearRegression"
   ]
  },
  {
   "cell_type": "code",
   "execution_count": 13,
   "id": "81103fa6",
   "metadata": {},
   "outputs": [],
   "source": [
    "model = LinearRegression()"
   ]
  },
  {
   "cell_type": "code",
   "execution_count": 14,
   "id": "adbf53a5",
   "metadata": {},
   "outputs": [
    {
     "data": {
      "text/plain": [
       "LinearRegression()"
      ]
     },
     "execution_count": 14,
     "metadata": {},
     "output_type": "execute_result"
    }
   ],
   "source": [
    "model.fit(X_train,y_train)"
   ]
  },
  {
   "cell_type": "markdown",
   "id": "73c62611",
   "metadata": {},
   "source": [
    "# Making the prediction"
   ]
  },
  {
   "cell_type": "code",
   "execution_count": 15,
   "id": "0ed55ce6",
   "metadata": {},
   "outputs": [],
   "source": [
    "y_pred = model.predict(X_test)"
   ]
  },
  {
   "cell_type": "code",
   "execution_count": 16,
   "id": "ceef5bba",
   "metadata": {},
   "outputs": [
    {
     "name": "stdout",
     "output_type": "stream",
     "text": [
      "[ 4383.68089988 12885.03892192 12589.21653212 13286.22919217\n",
      "   544.72832757 32117.58400779 12919.04237221 12318.62183013\n",
      "  3784.29145555 29468.45725408 11002.8139431  17539.69473777\n",
      "  8681.35471964  8349.04325528  3130.12725504 10445.83896118\n",
      "  3863.74357865  6944.62510786 15009.63121084 14441.59911874\n",
      " 12543.65768867 32958.72553095  9072.63608136  8986.85860053\n",
      "  3022.85773294  8164.97136102  9556.07558002 10743.20363927\n",
      "  7694.01743692  4373.43771674 14140.93557984  5811.78545062\n",
      " 34631.91316718 27009.11191231 33348.14098668  9532.96786929\n",
      " 30421.65017927 26648.91186842 15157.78333287 33895.76121465\n",
      "  6303.38552088 14059.15156303 10713.4467824  15089.36171493\n",
      "  4187.95334069 13106.4297513   4336.19603407 28607.05556216\n",
      "  7243.57117377 14269.4643165  13282.36924936 12329.61280721\n",
      "  1851.87215658  8876.2837892  26089.18341811 10125.8221046\n",
      " 34218.77265378 14537.70022165  3232.07805794  5889.64309508\n",
      "  6558.45711628 14952.73214832 26943.84457634  3272.57672674\n",
      " 15795.18877494 11220.12036023 11132.67761401 10461.51218201\n",
      "  1520.17580687 25268.32319722 37555.4332681  33131.32070966\n",
      "  1986.54437212 11348.45648105 13683.62487834 34970.76597049\n",
      "  3194.05204265  3875.19388449 10355.84468565 10429.85383112\n",
      "   -74.18168095 14069.96921025 10335.95235396  3160.49129709\n",
      " 33495.55139469 33108.38629603  7159.042252   37712.17792565\n",
      " 12860.01613403 10312.33535752 30118.39165257 33999.155218\n",
      " 14744.35977759 10797.48057723   228.32604517 10550.25751993\n",
      "  9637.2654186  14963.62716464 14973.49438453  6077.52837971\n",
      " 13679.44499708 26048.6188477  28140.15460801 27428.44651929\n",
      " 35323.96326034 27120.17093173   635.73242244  9265.30720109\n",
      "  4700.17995399 12458.33462103  5334.04136712  4797.80959774\n",
      "  1053.28620015 18801.23368294  3268.21781045  1680.06692797\n",
      " 11731.45541277 12594.4560403  11876.24500234  3722.26917923\n",
      "  8907.38977334 13909.79277731  7727.28039545  6573.92347482\n",
      " 36668.28291771 12172.54974158 12246.4759298  29298.69540744\n",
      " 36065.08836969 11635.06903459 28119.47917939  -420.5228157\n",
      "  8255.48679122 31611.56891923  8278.51950655  -682.91733795\n",
      "  1175.50251941  4610.52460783  7592.72365991 12602.74525758\n",
      " 14871.84794414  8696.2661006  28916.17140639 15712.12938325\n",
      " 14688.56307722 11117.34115616  1910.78149758 10065.51386262\n",
      "  3785.83713249  6165.85822972 11400.42215978  5505.08475585\n",
      " 14580.76982237 13691.35579602 12694.51188244  7023.42319484\n",
      " 12388.68766385 10922.09183278 10269.55783904  4543.27270357\n",
      "  5648.10144357 40390.9900769  13059.47316213  4308.66813543\n",
      "  8433.53823713  4680.92297563 32207.14761827 11261.09752853\n",
      " 10966.92628193  6893.83017801  6439.49932262  6698.81354717\n",
      " 33082.53354683 34892.66990169  2163.75212652  7664.10129233\n",
      "  5208.63123781 15537.4388228   1472.95942494 11431.38761905\n",
      " 13442.52462926 11497.84155642 10547.85065715 13216.06609157\n",
      "  2392.9275311  27535.86192673  2350.29363146 14750.02090702\n",
      "  6294.4943912  10590.51504221 14975.55458721 38857.75707767\n",
      "  2100.48817818  1489.62172706  5170.63120404  7556.77055613\n",
      "  7905.80683902  4503.61764622 10680.78553577  8938.12057203\n",
      "  9389.70713251 11104.75136012 10325.31689891  9247.40925093\n",
      "  8075.54835929   895.79174623 10136.82246673  7306.72664577\n",
      "  6626.07986045 11706.84936779  5409.99685749 32864.25315855\n",
      "  7088.39118065  6309.6941707   7934.10447803 38948.10610123\n",
      " 11941.19483711 28316.17975841  2882.4783976  33202.36401978\n",
      "  3690.60862539 31577.22772525 13825.53657174  2716.91852953\n",
      "  1908.80043495  1262.92212969  6109.40830379  4463.80387639\n",
      " 25580.05728181 15737.66640221  5345.8549026  13030.85900261\n",
      " 38954.05091304  4792.05740177 12711.42561622 11335.66208015\n",
      " 27785.54316341  2794.86874955 13392.79241645  5727.91540048\n",
      " 15215.43600554  5772.15783816 16929.82927411  3896.74375465\n",
      " 12197.3470759  34682.24329155 10666.53272796 10601.36016707\n",
      "  4875.20490336 16734.59399629 14399.64496923  5497.30018065\n",
      " 11149.82336777 12497.70437379  4626.74808217  7169.33486073\n",
      " 27667.13758601 32240.5545494   -474.41779055 40306.05467371\n",
      "  9397.25562995  7750.27185181 10671.66257411 33555.1844395\n",
      " 35949.5230514  36650.46723087  4961.92884343  6116.92057448]\n"
     ]
    }
   ],
   "source": [
    "print(y_pred)"
   ]
  },
  {
   "cell_type": "markdown",
   "id": "f6d45581",
   "metadata": {},
   "source": [
    "# Comparison"
   ]
  },
  {
   "cell_type": "code",
   "execution_count": 17,
   "id": "db9d253c",
   "metadata": {},
   "outputs": [],
   "source": [
    "comparison = pd.DataFrame()"
   ]
  },
  {
   "cell_type": "code",
   "execution_count": 18,
   "id": "614aaf32",
   "metadata": {},
   "outputs": [],
   "source": [
    "comparison['Actual'] = y_test"
   ]
  },
  {
   "cell_type": "code",
   "execution_count": 19,
   "id": "b9237a06",
   "metadata": {},
   "outputs": [],
   "source": [
    "comparison['Predicted'] = y_pred"
   ]
  },
  {
   "cell_type": "code",
   "execution_count": 20,
   "id": "b4c60c0b",
   "metadata": {},
   "outputs": [
    {
     "data": {
      "text/html": [
       "<div>\n",
       "<style scoped>\n",
       "    .dataframe tbody tr th:only-of-type {\n",
       "        vertical-align: middle;\n",
       "    }\n",
       "\n",
       "    .dataframe tbody tr th {\n",
       "        vertical-align: top;\n",
       "    }\n",
       "\n",
       "    .dataframe thead th {\n",
       "        text-align: right;\n",
       "    }\n",
       "</style>\n",
       "<table border=\"1\" class=\"dataframe\">\n",
       "  <thead>\n",
       "    <tr style=\"text-align: right;\">\n",
       "      <th></th>\n",
       "      <th>Actual</th>\n",
       "      <th>Predicted</th>\n",
       "    </tr>\n",
       "  </thead>\n",
       "  <tbody>\n",
       "    <tr>\n",
       "      <th>559</th>\n",
       "      <td>1646.42970</td>\n",
       "      <td>4383.680900</td>\n",
       "    </tr>\n",
       "    <tr>\n",
       "      <th>1087</th>\n",
       "      <td>11353.22760</td>\n",
       "      <td>12885.038922</td>\n",
       "    </tr>\n",
       "    <tr>\n",
       "      <th>1020</th>\n",
       "      <td>8798.59300</td>\n",
       "      <td>12589.216532</td>\n",
       "    </tr>\n",
       "    <tr>\n",
       "      <th>460</th>\n",
       "      <td>10381.47870</td>\n",
       "      <td>13286.229192</td>\n",
       "    </tr>\n",
       "    <tr>\n",
       "      <th>802</th>\n",
       "      <td>2103.08000</td>\n",
       "      <td>544.728328</td>\n",
       "    </tr>\n",
       "    <tr>\n",
       "      <th>...</th>\n",
       "      <td>...</td>\n",
       "      <td>...</td>\n",
       "    </tr>\n",
       "    <tr>\n",
       "      <th>682</th>\n",
       "      <td>40103.89000</td>\n",
       "      <td>33555.184440</td>\n",
       "    </tr>\n",
       "    <tr>\n",
       "      <th>629</th>\n",
       "      <td>42983.45850</td>\n",
       "      <td>35949.523051</td>\n",
       "    </tr>\n",
       "    <tr>\n",
       "      <th>893</th>\n",
       "      <td>44202.65360</td>\n",
       "      <td>36650.467231</td>\n",
       "    </tr>\n",
       "    <tr>\n",
       "      <th>807</th>\n",
       "      <td>2136.88225</td>\n",
       "      <td>4961.928843</td>\n",
       "    </tr>\n",
       "    <tr>\n",
       "      <th>1165</th>\n",
       "      <td>5227.98875</td>\n",
       "      <td>6116.920574</td>\n",
       "    </tr>\n",
       "  </tbody>\n",
       "</table>\n",
       "<p>268 rows × 2 columns</p>\n",
       "</div>"
      ],
      "text/plain": [
       "           Actual     Predicted\n",
       "559    1646.42970   4383.680900\n",
       "1087  11353.22760  12885.038922\n",
       "1020   8798.59300  12589.216532\n",
       "460   10381.47870  13286.229192\n",
       "802    2103.08000    544.728328\n",
       "...           ...           ...\n",
       "682   40103.89000  33555.184440\n",
       "629   42983.45850  35949.523051\n",
       "893   44202.65360  36650.467231\n",
       "807    2136.88225   4961.928843\n",
       "1165   5227.98875   6116.920574\n",
       "\n",
       "[268 rows x 2 columns]"
      ]
     },
     "execution_count": 20,
     "metadata": {},
     "output_type": "execute_result"
    }
   ],
   "source": [
    "comparison"
   ]
  },
  {
   "cell_type": "markdown",
   "id": "5550de8c",
   "metadata": {},
   "source": [
    "# Evaluation"
   ]
  },
  {
   "cell_type": "code",
   "execution_count": 21,
   "id": "f2e536ae",
   "metadata": {},
   "outputs": [],
   "source": [
    "from sklearn.metrics import r2_score"
   ]
  },
  {
   "cell_type": "code",
   "execution_count": 22,
   "id": "22f275b2",
   "metadata": {},
   "outputs": [
    {
     "data": {
      "text/plain": [
       "0.7623311844057111"
      ]
     },
     "execution_count": 22,
     "metadata": {},
     "output_type": "execute_result"
    }
   ],
   "source": [
    "r2_score(y_test, y_pred)"
   ]
  },
  {
   "cell_type": "code",
   "execution_count": null,
   "id": "6fe54c6f",
   "metadata": {},
   "outputs": [],
   "source": []
  }
 ],
 "metadata": {
  "kernelspec": {
   "display_name": "Python 3 (ipykernel)",
   "language": "python",
   "name": "python3"
  },
  "language_info": {
   "codemirror_mode": {
    "name": "ipython",
    "version": 3
   },
   "file_extension": ".py",
   "mimetype": "text/x-python",
   "name": "python",
   "nbconvert_exporter": "python",
   "pygments_lexer": "ipython3",
   "version": "3.9.7"
  }
 },
 "nbformat": 4,
 "nbformat_minor": 5
}
