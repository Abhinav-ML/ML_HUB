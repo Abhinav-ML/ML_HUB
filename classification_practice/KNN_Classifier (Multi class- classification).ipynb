{
 "cells": [
  {
   "cell_type": "markdown",
   "id": "7da4c0f7",
   "metadata": {},
   "source": [
    "# Importing Data\n",
    "https://www.kaggle.com/datasets/afifaniks/bangla-music-dataset?resource=download"
   ]
  },
  {
   "cell_type": "code",
   "execution_count": 1,
   "id": "4a8735c0",
   "metadata": {},
   "outputs": [],
   "source": [
    "import pandas as pd\n",
    "import seaborn as sns"
   ]
  },
  {
   "cell_type": "code",
   "execution_count": 4,
   "id": "6083a7e4",
   "metadata": {},
   "outputs": [],
   "source": [
    "data = pd.read_csv('dataset.csv')"
   ]
  },
  {
   "cell_type": "code",
   "execution_count": 5,
   "id": "62f5c9ab",
   "metadata": {},
   "outputs": [
    {
     "data": {
      "text/html": [
       "<div>\n",
       "<style scoped>\n",
       "    .dataframe tbody tr th:only-of-type {\n",
       "        vertical-align: middle;\n",
       "    }\n",
       "\n",
       "    .dataframe tbody tr th {\n",
       "        vertical-align: top;\n",
       "    }\n",
       "\n",
       "    .dataframe thead th {\n",
       "        text-align: right;\n",
       "    }\n",
       "</style>\n",
       "<table border=\"1\" class=\"dataframe\">\n",
       "  <thead>\n",
       "    <tr style=\"text-align: right;\">\n",
       "      <th></th>\n",
       "      <th>file_name</th>\n",
       "      <th>zero_crossing</th>\n",
       "      <th>spectral_centroid</th>\n",
       "      <th>spectral_rolloff</th>\n",
       "      <th>spectral_bandwidth</th>\n",
       "      <th>chroma_frequency</th>\n",
       "      <th>rmse</th>\n",
       "      <th>delta</th>\n",
       "      <th>melspectogram</th>\n",
       "      <th>tempo</th>\n",
       "      <th>...</th>\n",
       "      <th>mfcc11</th>\n",
       "      <th>mfcc12</th>\n",
       "      <th>mfcc13</th>\n",
       "      <th>mfcc14</th>\n",
       "      <th>mfcc15</th>\n",
       "      <th>mfcc16</th>\n",
       "      <th>mfcc17</th>\n",
       "      <th>mfcc18</th>\n",
       "      <th>mfcc19</th>\n",
       "      <th>label</th>\n",
       "    </tr>\n",
       "  </thead>\n",
       "  <tbody>\n",
       "    <tr>\n",
       "      <th>0</th>\n",
       "      <td>(Tomake Paowa)  - Hridoy Khan &amp; Tasnim Anika F...</td>\n",
       "      <td>125424</td>\n",
       "      <td>1770.889394</td>\n",
       "      <td>3893.575094</td>\n",
       "      <td>2414.810615</td>\n",
       "      <td>0.315795</td>\n",
       "      <td>0.222552</td>\n",
       "      <td>-7.661680e-08</td>\n",
       "      <td>12.977708</td>\n",
       "      <td>172.265625</td>\n",
       "      <td>...</td>\n",
       "      <td>3.164991</td>\n",
       "      <td>-3.867179</td>\n",
       "      <td>5.325016</td>\n",
       "      <td>1.176338</td>\n",
       "      <td>-0.788755</td>\n",
       "      <td>-6.343288</td>\n",
       "      <td>2.488148</td>\n",
       "      <td>0.047027</td>\n",
       "      <td>7.211918</td>\n",
       "      <td>adhunik</td>\n",
       "    </tr>\n",
       "    <tr>\n",
       "      <th>1</th>\n",
       "      <td>008. Jai Bole Jete Naire - Jewel (1980).mp3</td>\n",
       "      <td>308658</td>\n",
       "      <td>2549.349989</td>\n",
       "      <td>4986.658880</td>\n",
       "      <td>2193.617981</td>\n",
       "      <td>0.310113</td>\n",
       "      <td>0.156930</td>\n",
       "      <td>8.893313e-08</td>\n",
       "      <td>5.118271</td>\n",
       "      <td>143.554688</td>\n",
       "      <td>...</td>\n",
       "      <td>8.358729</td>\n",
       "      <td>-12.691169</td>\n",
       "      <td>11.393858</td>\n",
       "      <td>-6.176215</td>\n",
       "      <td>9.947330</td>\n",
       "      <td>-6.987708</td>\n",
       "      <td>7.935905</td>\n",
       "      <td>-9.452455</td>\n",
       "      <td>1.582699</td>\n",
       "      <td>adhunik</td>\n",
       "    </tr>\n",
       "    <tr>\n",
       "      <th>2</th>\n",
       "      <td>03. Doob   Habib  ft Mousumi &amp; Mosharraf Karim...</td>\n",
       "      <td>158328</td>\n",
       "      <td>2013.718396</td>\n",
       "      <td>4573.595848</td>\n",
       "      <td>2515.994413</td>\n",
       "      <td>0.301663</td>\n",
       "      <td>0.093736</td>\n",
       "      <td>1.340824e-07</td>\n",
       "      <td>2.497263</td>\n",
       "      <td>103.359375</td>\n",
       "      <td>...</td>\n",
       "      <td>-3.361615</td>\n",
       "      <td>-6.730814</td>\n",
       "      <td>0.184162</td>\n",
       "      <td>-4.139533</td>\n",
       "      <td>4.409801</td>\n",
       "      <td>3.190835</td>\n",
       "      <td>4.862090</td>\n",
       "      <td>-6.406590</td>\n",
       "      <td>-0.705287</td>\n",
       "      <td>adhunik</td>\n",
       "    </tr>\n",
       "    <tr>\n",
       "      <th>3</th>\n",
       "      <td>034. Mukhe Bolo Valobashi by Muni Kis.mp3</td>\n",
       "      <td>136711</td>\n",
       "      <td>1827.495303</td>\n",
       "      <td>4215.075766</td>\n",
       "      <td>2284.762196</td>\n",
       "      <td>0.349875</td>\n",
       "      <td>0.039457</td>\n",
       "      <td>-1.908483e-08</td>\n",
       "      <td>0.421975</td>\n",
       "      <td>135.999178</td>\n",
       "      <td>...</td>\n",
       "      <td>8.563364</td>\n",
       "      <td>-7.990767</td>\n",
       "      <td>3.611352</td>\n",
       "      <td>-4.211268</td>\n",
       "      <td>5.490051</td>\n",
       "      <td>-7.556331</td>\n",
       "      <td>1.124302</td>\n",
       "      <td>-4.306443</td>\n",
       "      <td>0.957663</td>\n",
       "      <td>adhunik</td>\n",
       "    </tr>\n",
       "    <tr>\n",
       "      <th>4</th>\n",
       "      <td>05. Abar elo Je Shondha by Happy Akhand.mp3</td>\n",
       "      <td>238711</td>\n",
       "      <td>1715.832235</td>\n",
       "      <td>3303.949296</td>\n",
       "      <td>1587.488472</td>\n",
       "      <td>0.300132</td>\n",
       "      <td>0.142870</td>\n",
       "      <td>-5.355904e-08</td>\n",
       "      <td>4.311442</td>\n",
       "      <td>92.285156</td>\n",
       "      <td>...</td>\n",
       "      <td>-1.230101</td>\n",
       "      <td>-5.323076</td>\n",
       "      <td>-3.194775</td>\n",
       "      <td>-7.124155</td>\n",
       "      <td>-4.431173</td>\n",
       "      <td>-4.797250</td>\n",
       "      <td>-4.686700</td>\n",
       "      <td>-4.393025</td>\n",
       "      <td>-1.749295</td>\n",
       "      <td>adhunik</td>\n",
       "    </tr>\n",
       "  </tbody>\n",
       "</table>\n",
       "<p>5 rows × 31 columns</p>\n",
       "</div>"
      ],
      "text/plain": [
       "                                           file_name  zero_crossing  \\\n",
       "0  (Tomake Paowa)  - Hridoy Khan & Tasnim Anika F...         125424   \n",
       "1        008. Jai Bole Jete Naire - Jewel (1980).mp3         308658   \n",
       "2  03. Doob   Habib  ft Mousumi & Mosharraf Karim...         158328   \n",
       "3          034. Mukhe Bolo Valobashi by Muni Kis.mp3         136711   \n",
       "4        05. Abar elo Je Shondha by Happy Akhand.mp3         238711   \n",
       "\n",
       "   spectral_centroid  spectral_rolloff  spectral_bandwidth  chroma_frequency  \\\n",
       "0        1770.889394       3893.575094         2414.810615          0.315795   \n",
       "1        2549.349989       4986.658880         2193.617981          0.310113   \n",
       "2        2013.718396       4573.595848         2515.994413          0.301663   \n",
       "3        1827.495303       4215.075766         2284.762196          0.349875   \n",
       "4        1715.832235       3303.949296         1587.488472          0.300132   \n",
       "\n",
       "       rmse         delta  melspectogram       tempo  ...    mfcc11  \\\n",
       "0  0.222552 -7.661680e-08      12.977708  172.265625  ...  3.164991   \n",
       "1  0.156930  8.893313e-08       5.118271  143.554688  ...  8.358729   \n",
       "2  0.093736  1.340824e-07       2.497263  103.359375  ... -3.361615   \n",
       "3  0.039457 -1.908483e-08       0.421975  135.999178  ...  8.563364   \n",
       "4  0.142870 -5.355904e-08       4.311442   92.285156  ... -1.230101   \n",
       "\n",
       "      mfcc12     mfcc13    mfcc14    mfcc15    mfcc16    mfcc17    mfcc18  \\\n",
       "0  -3.867179   5.325016  1.176338 -0.788755 -6.343288  2.488148  0.047027   \n",
       "1 -12.691169  11.393858 -6.176215  9.947330 -6.987708  7.935905 -9.452455   \n",
       "2  -6.730814   0.184162 -4.139533  4.409801  3.190835  4.862090 -6.406590   \n",
       "3  -7.990767   3.611352 -4.211268  5.490051 -7.556331  1.124302 -4.306443   \n",
       "4  -5.323076  -3.194775 -7.124155 -4.431173 -4.797250 -4.686700 -4.393025   \n",
       "\n",
       "     mfcc19    label  \n",
       "0  7.211918  adhunik  \n",
       "1  1.582699  adhunik  \n",
       "2 -0.705287  adhunik  \n",
       "3  0.957663  adhunik  \n",
       "4 -1.749295  adhunik  \n",
       "\n",
       "[5 rows x 31 columns]"
      ]
     },
     "execution_count": 5,
     "metadata": {},
     "output_type": "execute_result"
    }
   ],
   "source": [
    "data.head()"
   ]
  },
  {
   "cell_type": "markdown",
   "id": "5f95a8e7",
   "metadata": {},
   "source": [
    "# Separating Features and Target Variable"
   ]
  },
  {
   "cell_type": "code",
   "execution_count": 6,
   "id": "99589a3a",
   "metadata": {},
   "outputs": [],
   "source": [
    "X = data.iloc[:,:-1] "
   ]
  },
  {
   "cell_type": "code",
   "execution_count": 7,
   "id": "c7b2cecc",
   "metadata": {},
   "outputs": [
    {
     "name": "stdout",
     "output_type": "stream",
     "text": [
      "file_name              object\n",
      "zero_crossing           int64\n",
      "spectral_centroid     float64\n",
      "spectral_rolloff      float64\n",
      "spectral_bandwidth    float64\n",
      "chroma_frequency      float64\n",
      "rmse                  float64\n",
      "delta                 float64\n",
      "melspectogram         float64\n",
      "tempo                 float64\n",
      "mfcc0                 float64\n",
      "mfcc1                 float64\n",
      "mfcc2                 float64\n",
      "mfcc3                 float64\n",
      "mfcc4                 float64\n",
      "mfcc5                 float64\n",
      "mfcc6                 float64\n",
      "mfcc7                 float64\n",
      "mfcc8                 float64\n",
      "mfcc9                 float64\n",
      "mfcc10                float64\n",
      "mfcc11                float64\n",
      "mfcc12                float64\n",
      "mfcc13                float64\n",
      "mfcc14                float64\n",
      "mfcc15                float64\n",
      "mfcc16                float64\n",
      "mfcc17                float64\n",
      "mfcc18                float64\n",
      "mfcc19                float64\n",
      "dtype: object\n"
     ]
    }
   ],
   "source": [
    "X\n",
    "print(X.dtypes)"
   ]
  },
  {
   "cell_type": "code",
   "execution_count": 8,
   "id": "e3dfa287",
   "metadata": {},
   "outputs": [],
   "source": [
    "y = data.iloc[:,-1]"
   ]
  },
  {
   "cell_type": "code",
   "execution_count": 9,
   "id": "4fd983b0",
   "metadata": {},
   "outputs": [
    {
     "data": {
      "text/plain": [
       "0        adhunik\n",
       "1        adhunik\n",
       "2        adhunik\n",
       "3        adhunik\n",
       "4        adhunik\n",
       "          ...   \n",
       "1737    rabindra\n",
       "1738    rabindra\n",
       "1739    rabindra\n",
       "1740    rabindra\n",
       "1741    rabindra\n",
       "Name: label, Length: 1742, dtype: object"
      ]
     },
     "execution_count": 9,
     "metadata": {},
     "output_type": "execute_result"
    }
   ],
   "source": [
    "y"
   ]
  },
  {
   "cell_type": "code",
   "execution_count": 21,
   "id": "90a0a07b",
   "metadata": {},
   "outputs": [
    {
     "data": {
      "text/plain": [
       "0"
      ]
     },
     "execution_count": 21,
     "metadata": {},
     "output_type": "execute_result"
    }
   ],
   "source": [
    "pd.isnull(y).sum()"
   ]
  },
  {
   "cell_type": "markdown",
   "id": "68398437",
   "metadata": {},
   "source": [
    "# Handling Missing data"
   ]
  },
  {
   "cell_type": "code",
   "execution_count": 10,
   "id": "b8fd5dfe",
   "metadata": {},
   "outputs": [],
   "source": [
    "import numpy as np\n",
    "from sklearn.impute import SimpleImputer\n",
    "imp_mean = SimpleImputer(missing_values = np.nan , strategy = 'mean')"
   ]
  },
  {
   "cell_type": "code",
   "execution_count": 11,
   "id": "04cbc8cf",
   "metadata": {},
   "outputs": [
    {
     "data": {
      "text/plain": [
       "[1,\n",
       " 2,\n",
       " 3,\n",
       " 4,\n",
       " 5,\n",
       " 6,\n",
       " 7,\n",
       " 8,\n",
       " 9,\n",
       " 10,\n",
       " 11,\n",
       " 12,\n",
       " 13,\n",
       " 14,\n",
       " 15,\n",
       " 16,\n",
       " 17,\n",
       " 18,\n",
       " 19,\n",
       " 20,\n",
       " 21,\n",
       " 22,\n",
       " 23,\n",
       " 24,\n",
       " 25,\n",
       " 26,\n",
       " 27,\n",
       " 28,\n",
       " 29]"
      ]
     },
     "execution_count": 11,
     "metadata": {},
     "output_type": "execute_result"
    }
   ],
   "source": [
    "numerical_cols = list(np.where((X.dtypes == np.int64) | (X.dtypes == np.float64))[0])\n",
    "\n",
    "numerical_cols"
   ]
  },
  {
   "cell_type": "code",
   "execution_count": 22,
   "id": "2e4618fe",
   "metadata": {},
   "outputs": [
    {
     "data": {
      "text/plain": [
       "SimpleImputer(strategy='most_frequent')"
      ]
     },
     "execution_count": 22,
     "metadata": {},
     "output_type": "execute_result"
    }
   ],
   "source": [
    "imp_mean.fit(X.iloc[:,numerical_cols]) # now, fitting mean value in place of nan values based on the column which have numeric values"
   ]
  },
  {
   "cell_type": "code",
   "execution_count": 23,
   "id": "2c7b434a",
   "metadata": {},
   "outputs": [],
   "source": [
    "X.iloc[:,numerical_cols] = imp_mean.transform(X.iloc[:,numerical_cols]) # updating/transforming the actual data i.e, X"
   ]
  },
  {
   "cell_type": "markdown",
   "id": "86a9a144",
   "metadata": {},
   "source": [
    "# Handling Missing String data"
   ]
  },
  {
   "cell_type": "code",
   "execution_count": 24,
   "id": "5e3495e2",
   "metadata": {},
   "outputs": [],
   "source": [
    "imp_mean = SimpleImputer(missing_values = np.nan , strategy = 'most_frequent')"
   ]
  },
  {
   "cell_type": "code",
   "execution_count": 25,
   "id": "e24f2cf3",
   "metadata": {},
   "outputs": [
    {
     "data": {
      "text/plain": [
       "[0]"
      ]
     },
     "execution_count": 25,
     "metadata": {},
     "output_type": "execute_result"
    }
   ],
   "source": [
    "string_cols = list((np.where(X.dtypes ==object))[0])\n",
    "string_cols  "
   ]
  },
  {
   "cell_type": "code",
   "execution_count": 26,
   "id": "551a0778",
   "metadata": {},
   "outputs": [
    {
     "data": {
      "text/plain": [
       "SimpleImputer(strategy='most_frequent')"
      ]
     },
     "execution_count": 26,
     "metadata": {},
     "output_type": "execute_result"
    }
   ],
   "source": [
    "imp_mean.fit(X.iloc[:,string_cols])"
   ]
  },
  {
   "cell_type": "code",
   "execution_count": 27,
   "id": "e29cefbd",
   "metadata": {},
   "outputs": [],
   "source": [
    "X.iloc[:,string_cols] = imp_mean.transform(X.iloc[:,string_cols])"
   ]
  },
  {
   "cell_type": "code",
   "execution_count": 28,
   "id": "f041afde",
   "metadata": {},
   "outputs": [
    {
     "data": {
      "text/plain": [
       "file_name             0\n",
       "zero_crossing         0\n",
       "spectral_centroid     0\n",
       "spectral_rolloff      0\n",
       "spectral_bandwidth    0\n",
       "chroma_frequency      0\n",
       "rmse                  0\n",
       "delta                 0\n",
       "melspectogram         0\n",
       "tempo                 0\n",
       "mfcc0                 0\n",
       "mfcc1                 0\n",
       "mfcc2                 0\n",
       "mfcc3                 0\n",
       "mfcc4                 0\n",
       "mfcc5                 0\n",
       "mfcc6                 0\n",
       "mfcc7                 0\n",
       "mfcc8                 0\n",
       "mfcc9                 0\n",
       "mfcc10                0\n",
       "mfcc11                0\n",
       "mfcc12                0\n",
       "mfcc13                0\n",
       "mfcc14                0\n",
       "mfcc15                0\n",
       "mfcc16                0\n",
       "mfcc17                0\n",
       "mfcc18                0\n",
       "mfcc19                0\n",
       "dtype: int64"
      ]
     },
     "execution_count": 28,
     "metadata": {},
     "output_type": "execute_result"
    }
   ],
   "source": [
    "pd.isnull(X).sum()"
   ]
  },
  {
   "cell_type": "code",
   "execution_count": 29,
   "id": "2fcdbf7e",
   "metadata": {},
   "outputs": [
    {
     "data": {
      "text/html": [
       "<div>\n",
       "<style scoped>\n",
       "    .dataframe tbody tr th:only-of-type {\n",
       "        vertical-align: middle;\n",
       "    }\n",
       "\n",
       "    .dataframe tbody tr th {\n",
       "        vertical-align: top;\n",
       "    }\n",
       "\n",
       "    .dataframe thead th {\n",
       "        text-align: right;\n",
       "    }\n",
       "</style>\n",
       "<table border=\"1\" class=\"dataframe\">\n",
       "  <thead>\n",
       "    <tr style=\"text-align: right;\">\n",
       "      <th></th>\n",
       "      <th>zero_crossing</th>\n",
       "      <th>spectral_centroid</th>\n",
       "      <th>spectral_rolloff</th>\n",
       "      <th>spectral_bandwidth</th>\n",
       "      <th>chroma_frequency</th>\n",
       "      <th>rmse</th>\n",
       "      <th>delta</th>\n",
       "      <th>melspectogram</th>\n",
       "      <th>tempo</th>\n",
       "      <th>mfcc0</th>\n",
       "      <th>...</th>\n",
       "      <th>mfcc10</th>\n",
       "      <th>mfcc11</th>\n",
       "      <th>mfcc12</th>\n",
       "      <th>mfcc13</th>\n",
       "      <th>mfcc14</th>\n",
       "      <th>mfcc15</th>\n",
       "      <th>mfcc16</th>\n",
       "      <th>mfcc17</th>\n",
       "      <th>mfcc18</th>\n",
       "      <th>mfcc19</th>\n",
       "    </tr>\n",
       "  </thead>\n",
       "  <tbody>\n",
       "    <tr>\n",
       "      <th>zero_crossing</th>\n",
       "      <td>1.000000</td>\n",
       "      <td>0.836705</td>\n",
       "      <td>0.714102</td>\n",
       "      <td>0.511658</td>\n",
       "      <td>0.398226</td>\n",
       "      <td>0.030248</td>\n",
       "      <td>-0.000701</td>\n",
       "      <td>-0.039075</td>\n",
       "      <td>0.024012</td>\n",
       "      <td>0.463207</td>\n",
       "      <td>...</td>\n",
       "      <td>0.053979</td>\n",
       "      <td>0.235931</td>\n",
       "      <td>-0.090805</td>\n",
       "      <td>0.211259</td>\n",
       "      <td>-0.082041</td>\n",
       "      <td>0.175625</td>\n",
       "      <td>-0.092151</td>\n",
       "      <td>0.118193</td>\n",
       "      <td>-0.110052</td>\n",
       "      <td>0.134052</td>\n",
       "    </tr>\n",
       "    <tr>\n",
       "      <th>spectral_centroid</th>\n",
       "      <td>0.836705</td>\n",
       "      <td>1.000000</td>\n",
       "      <td>0.974970</td>\n",
       "      <td>0.883767</td>\n",
       "      <td>0.632987</td>\n",
       "      <td>0.079660</td>\n",
       "      <td>-0.009338</td>\n",
       "      <td>0.029239</td>\n",
       "      <td>-0.035863</td>\n",
       "      <td>0.697601</td>\n",
       "      <td>...</td>\n",
       "      <td>0.185232</td>\n",
       "      <td>0.438312</td>\n",
       "      <td>0.024155</td>\n",
       "      <td>0.386237</td>\n",
       "      <td>-0.002493</td>\n",
       "      <td>0.299043</td>\n",
       "      <td>-0.151593</td>\n",
       "      <td>0.286027</td>\n",
       "      <td>-0.141790</td>\n",
       "      <td>0.253802</td>\n",
       "    </tr>\n",
       "    <tr>\n",
       "      <th>spectral_rolloff</th>\n",
       "      <td>0.714102</td>\n",
       "      <td>0.974970</td>\n",
       "      <td>1.000000</td>\n",
       "      <td>0.942248</td>\n",
       "      <td>0.669192</td>\n",
       "      <td>0.089093</td>\n",
       "      <td>-0.005574</td>\n",
       "      <td>0.047097</td>\n",
       "      <td>-0.052414</td>\n",
       "      <td>0.720824</td>\n",
       "      <td>...</td>\n",
       "      <td>0.226533</td>\n",
       "      <td>0.468162</td>\n",
       "      <td>0.067462</td>\n",
       "      <td>0.414394</td>\n",
       "      <td>0.013595</td>\n",
       "      <td>0.312249</td>\n",
       "      <td>-0.161499</td>\n",
       "      <td>0.303749</td>\n",
       "      <td>-0.142500</td>\n",
       "      <td>0.259022</td>\n",
       "    </tr>\n",
       "    <tr>\n",
       "      <th>spectral_bandwidth</th>\n",
       "      <td>0.511658</td>\n",
       "      <td>0.883767</td>\n",
       "      <td>0.942248</td>\n",
       "      <td>1.000000</td>\n",
       "      <td>0.658648</td>\n",
       "      <td>0.088186</td>\n",
       "      <td>-0.000997</td>\n",
       "      <td>0.060653</td>\n",
       "      <td>-0.064467</td>\n",
       "      <td>0.742015</td>\n",
       "      <td>...</td>\n",
       "      <td>0.231082</td>\n",
       "      <td>0.505973</td>\n",
       "      <td>0.098267</td>\n",
       "      <td>0.451186</td>\n",
       "      <td>0.045583</td>\n",
       "      <td>0.329447</td>\n",
       "      <td>-0.184342</td>\n",
       "      <td>0.359013</td>\n",
       "      <td>-0.156563</td>\n",
       "      <td>0.278880</td>\n",
       "    </tr>\n",
       "    <tr>\n",
       "      <th>chroma_frequency</th>\n",
       "      <td>0.398226</td>\n",
       "      <td>0.632987</td>\n",
       "      <td>0.669192</td>\n",
       "      <td>0.658648</td>\n",
       "      <td>1.000000</td>\n",
       "      <td>0.164369</td>\n",
       "      <td>0.006934</td>\n",
       "      <td>0.139936</td>\n",
       "      <td>-0.125043</td>\n",
       "      <td>0.598550</td>\n",
       "      <td>...</td>\n",
       "      <td>0.434988</td>\n",
       "      <td>0.547348</td>\n",
       "      <td>0.298046</td>\n",
       "      <td>0.399025</td>\n",
       "      <td>0.146412</td>\n",
       "      <td>0.307333</td>\n",
       "      <td>-0.163910</td>\n",
       "      <td>0.285890</td>\n",
       "      <td>-0.058547</td>\n",
       "      <td>0.189611</td>\n",
       "    </tr>\n",
       "    <tr>\n",
       "      <th>rmse</th>\n",
       "      <td>0.030248</td>\n",
       "      <td>0.079660</td>\n",
       "      <td>0.089093</td>\n",
       "      <td>0.088186</td>\n",
       "      <td>0.164369</td>\n",
       "      <td>1.000000</td>\n",
       "      <td>-0.007573</td>\n",
       "      <td>0.954087</td>\n",
       "      <td>-0.080422</td>\n",
       "      <td>0.554257</td>\n",
       "      <td>...</td>\n",
       "      <td>0.142676</td>\n",
       "      <td>0.165231</td>\n",
       "      <td>0.166345</td>\n",
       "      <td>0.147526</td>\n",
       "      <td>0.116307</td>\n",
       "      <td>0.160808</td>\n",
       "      <td>0.040492</td>\n",
       "      <td>0.141023</td>\n",
       "      <td>0.046105</td>\n",
       "      <td>0.122074</td>\n",
       "    </tr>\n",
       "    <tr>\n",
       "      <th>delta</th>\n",
       "      <td>-0.000701</td>\n",
       "      <td>-0.009338</td>\n",
       "      <td>-0.005574</td>\n",
       "      <td>-0.000997</td>\n",
       "      <td>0.006934</td>\n",
       "      <td>-0.007573</td>\n",
       "      <td>1.000000</td>\n",
       "      <td>-0.000252</td>\n",
       "      <td>-0.008868</td>\n",
       "      <td>-0.001455</td>\n",
       "      <td>...</td>\n",
       "      <td>-0.027657</td>\n",
       "      <td>-0.019458</td>\n",
       "      <td>-0.011164</td>\n",
       "      <td>-0.000914</td>\n",
       "      <td>-0.001794</td>\n",
       "      <td>0.008250</td>\n",
       "      <td>-0.020130</td>\n",
       "      <td>-0.009608</td>\n",
       "      <td>-0.016189</td>\n",
       "      <td>-0.017554</td>\n",
       "    </tr>\n",
       "    <tr>\n",
       "      <th>melspectogram</th>\n",
       "      <td>-0.039075</td>\n",
       "      <td>0.029239</td>\n",
       "      <td>0.047097</td>\n",
       "      <td>0.060653</td>\n",
       "      <td>0.139936</td>\n",
       "      <td>0.954087</td>\n",
       "      <td>-0.000252</td>\n",
       "      <td>1.000000</td>\n",
       "      <td>-0.064182</td>\n",
       "      <td>0.465012</td>\n",
       "      <td>...</td>\n",
       "      <td>0.142695</td>\n",
       "      <td>0.151257</td>\n",
       "      <td>0.156240</td>\n",
       "      <td>0.133978</td>\n",
       "      <td>0.117706</td>\n",
       "      <td>0.150431</td>\n",
       "      <td>0.057657</td>\n",
       "      <td>0.142462</td>\n",
       "      <td>0.060429</td>\n",
       "      <td>0.122503</td>\n",
       "    </tr>\n",
       "    <tr>\n",
       "      <th>tempo</th>\n",
       "      <td>0.024012</td>\n",
       "      <td>-0.035863</td>\n",
       "      <td>-0.052414</td>\n",
       "      <td>-0.064467</td>\n",
       "      <td>-0.125043</td>\n",
       "      <td>-0.080422</td>\n",
       "      <td>-0.008868</td>\n",
       "      <td>-0.064182</td>\n",
       "      <td>1.000000</td>\n",
       "      <td>-0.067099</td>\n",
       "      <td>...</td>\n",
       "      <td>-0.092869</td>\n",
       "      <td>-0.098939</td>\n",
       "      <td>-0.112337</td>\n",
       "      <td>-0.071424</td>\n",
       "      <td>-0.078885</td>\n",
       "      <td>-0.064704</td>\n",
       "      <td>-0.049678</td>\n",
       "      <td>-0.082679</td>\n",
       "      <td>-0.062953</td>\n",
       "      <td>-0.035412</td>\n",
       "    </tr>\n",
       "    <tr>\n",
       "      <th>mfcc0</th>\n",
       "      <td>0.463207</td>\n",
       "      <td>0.697601</td>\n",
       "      <td>0.720824</td>\n",
       "      <td>0.742015</td>\n",
       "      <td>0.598550</td>\n",
       "      <td>0.554257</td>\n",
       "      <td>-0.001455</td>\n",
       "      <td>0.465012</td>\n",
       "      <td>-0.067099</td>\n",
       "      <td>1.000000</td>\n",
       "      <td>...</td>\n",
       "      <td>0.207520</td>\n",
       "      <td>0.444907</td>\n",
       "      <td>0.111453</td>\n",
       "      <td>0.368386</td>\n",
       "      <td>0.038919</td>\n",
       "      <td>0.272358</td>\n",
       "      <td>-0.179681</td>\n",
       "      <td>0.275082</td>\n",
       "      <td>-0.131998</td>\n",
       "      <td>0.191386</td>\n",
       "    </tr>\n",
       "    <tr>\n",
       "      <th>mfcc1</th>\n",
       "      <td>-0.729600</td>\n",
       "      <td>-0.930388</td>\n",
       "      <td>-0.911167</td>\n",
       "      <td>-0.867854</td>\n",
       "      <td>-0.575157</td>\n",
       "      <td>-0.070841</td>\n",
       "      <td>0.006340</td>\n",
       "      <td>-0.033352</td>\n",
       "      <td>0.046338</td>\n",
       "      <td>-0.607882</td>\n",
       "      <td>...</td>\n",
       "      <td>-0.168177</td>\n",
       "      <td>-0.435583</td>\n",
       "      <td>-0.037477</td>\n",
       "      <td>-0.405355</td>\n",
       "      <td>-0.061447</td>\n",
       "      <td>-0.334237</td>\n",
       "      <td>0.120134</td>\n",
       "      <td>-0.345842</td>\n",
       "      <td>0.120121</td>\n",
       "      <td>-0.321047</td>\n",
       "    </tr>\n",
       "    <tr>\n",
       "      <th>mfcc2</th>\n",
       "      <td>-0.116080</td>\n",
       "      <td>0.222895</td>\n",
       "      <td>0.333943</td>\n",
       "      <td>0.461123</td>\n",
       "      <td>0.278345</td>\n",
       "      <td>0.100601</td>\n",
       "      <td>0.018871</td>\n",
       "      <td>0.095789</td>\n",
       "      <td>-0.069851</td>\n",
       "      <td>0.161292</td>\n",
       "      <td>...</td>\n",
       "      <td>0.217109</td>\n",
       "      <td>0.262176</td>\n",
       "      <td>0.190373</td>\n",
       "      <td>0.244226</td>\n",
       "      <td>0.100696</td>\n",
       "      <td>0.173862</td>\n",
       "      <td>-0.080646</td>\n",
       "      <td>0.191893</td>\n",
       "      <td>-0.128495</td>\n",
       "      <td>0.157197</td>\n",
       "    </tr>\n",
       "    <tr>\n",
       "      <th>mfcc3</th>\n",
       "      <td>0.210597</td>\n",
       "      <td>0.298294</td>\n",
       "      <td>0.307550</td>\n",
       "      <td>0.341850</td>\n",
       "      <td>0.344828</td>\n",
       "      <td>-0.031106</td>\n",
       "      <td>0.026878</td>\n",
       "      <td>-0.056561</td>\n",
       "      <td>0.041063</td>\n",
       "      <td>0.356246</td>\n",
       "      <td>...</td>\n",
       "      <td>0.086631</td>\n",
       "      <td>0.294139</td>\n",
       "      <td>0.025916</td>\n",
       "      <td>0.204605</td>\n",
       "      <td>-0.003434</td>\n",
       "      <td>0.073570</td>\n",
       "      <td>-0.141949</td>\n",
       "      <td>-0.017532</td>\n",
       "      <td>-0.063906</td>\n",
       "      <td>-0.096816</td>\n",
       "    </tr>\n",
       "    <tr>\n",
       "      <th>mfcc4</th>\n",
       "      <td>-0.204832</td>\n",
       "      <td>-0.086900</td>\n",
       "      <td>-0.019326</td>\n",
       "      <td>0.020236</td>\n",
       "      <td>0.234714</td>\n",
       "      <td>0.053644</td>\n",
       "      <td>0.036774</td>\n",
       "      <td>0.050635</td>\n",
       "      <td>-0.051873</td>\n",
       "      <td>-0.071468</td>\n",
       "      <td>...</td>\n",
       "      <td>0.247251</td>\n",
       "      <td>0.048406</td>\n",
       "      <td>0.268849</td>\n",
       "      <td>0.054175</td>\n",
       "      <td>0.109879</td>\n",
       "      <td>0.101950</td>\n",
       "      <td>-0.025155</td>\n",
       "      <td>0.058323</td>\n",
       "      <td>-0.001009</td>\n",
       "      <td>0.080456</td>\n",
       "    </tr>\n",
       "    <tr>\n",
       "      <th>mfcc5</th>\n",
       "      <td>0.238932</td>\n",
       "      <td>0.420199</td>\n",
       "      <td>0.463667</td>\n",
       "      <td>0.493318</td>\n",
       "      <td>0.472884</td>\n",
       "      <td>0.112231</td>\n",
       "      <td>0.006791</td>\n",
       "      <td>0.086120</td>\n",
       "      <td>-0.056661</td>\n",
       "      <td>0.410239</td>\n",
       "      <td>...</td>\n",
       "      <td>0.339810</td>\n",
       "      <td>0.458828</td>\n",
       "      <td>0.152096</td>\n",
       "      <td>0.435537</td>\n",
       "      <td>0.164213</td>\n",
       "      <td>0.267959</td>\n",
       "      <td>-0.010077</td>\n",
       "      <td>0.167854</td>\n",
       "      <td>-0.029405</td>\n",
       "      <td>0.142461</td>\n",
       "    </tr>\n",
       "    <tr>\n",
       "      <th>mfcc6</th>\n",
       "      <td>-0.108984</td>\n",
       "      <td>-0.058480</td>\n",
       "      <td>-0.024946</td>\n",
       "      <td>0.019744</td>\n",
       "      <td>0.140717</td>\n",
       "      <td>0.047043</td>\n",
       "      <td>-0.000011</td>\n",
       "      <td>0.036493</td>\n",
       "      <td>-0.017009</td>\n",
       "      <td>-0.001990</td>\n",
       "      <td>...</td>\n",
       "      <td>0.151765</td>\n",
       "      <td>0.178831</td>\n",
       "      <td>0.144269</td>\n",
       "      <td>0.161946</td>\n",
       "      <td>0.188661</td>\n",
       "      <td>0.122151</td>\n",
       "      <td>0.120419</td>\n",
       "      <td>0.023489</td>\n",
       "      <td>0.099060</td>\n",
       "      <td>0.022926</td>\n",
       "    </tr>\n",
       "    <tr>\n",
       "      <th>mfcc7</th>\n",
       "      <td>0.190296</td>\n",
       "      <td>0.427769</td>\n",
       "      <td>0.480298</td>\n",
       "      <td>0.518489</td>\n",
       "      <td>0.564840</td>\n",
       "      <td>0.092051</td>\n",
       "      <td>0.024683</td>\n",
       "      <td>0.076386</td>\n",
       "      <td>-0.064486</td>\n",
       "      <td>0.426207</td>\n",
       "      <td>...</td>\n",
       "      <td>0.440211</td>\n",
       "      <td>0.439638</td>\n",
       "      <td>0.344671</td>\n",
       "      <td>0.395987</td>\n",
       "      <td>0.139250</td>\n",
       "      <td>0.290008</td>\n",
       "      <td>-0.067418</td>\n",
       "      <td>0.217715</td>\n",
       "      <td>-0.112731</td>\n",
       "      <td>0.175632</td>\n",
       "    </tr>\n",
       "    <tr>\n",
       "      <th>mfcc8</th>\n",
       "      <td>0.099355</td>\n",
       "      <td>0.163647</td>\n",
       "      <td>0.183975</td>\n",
       "      <td>0.175315</td>\n",
       "      <td>0.340263</td>\n",
       "      <td>0.133854</td>\n",
       "      <td>-0.052691</td>\n",
       "      <td>0.122612</td>\n",
       "      <td>-0.015487</td>\n",
       "      <td>0.183107</td>\n",
       "      <td>...</td>\n",
       "      <td>0.428346</td>\n",
       "      <td>0.407619</td>\n",
       "      <td>0.177764</td>\n",
       "      <td>0.388244</td>\n",
       "      <td>0.231063</td>\n",
       "      <td>0.269349</td>\n",
       "      <td>0.197587</td>\n",
       "      <td>0.149767</td>\n",
       "      <td>0.194488</td>\n",
       "      <td>0.153783</td>\n",
       "    </tr>\n",
       "    <tr>\n",
       "      <th>mfcc9</th>\n",
       "      <td>0.225763</td>\n",
       "      <td>0.454655</td>\n",
       "      <td>0.490045</td>\n",
       "      <td>0.556092</td>\n",
       "      <td>0.498507</td>\n",
       "      <td>0.141647</td>\n",
       "      <td>-0.012331</td>\n",
       "      <td>0.120587</td>\n",
       "      <td>-0.100365</td>\n",
       "      <td>0.457109</td>\n",
       "      <td>...</td>\n",
       "      <td>0.316234</td>\n",
       "      <td>0.583837</td>\n",
       "      <td>0.341054</td>\n",
       "      <td>0.420167</td>\n",
       "      <td>0.272215</td>\n",
       "      <td>0.357386</td>\n",
       "      <td>0.017879</td>\n",
       "      <td>0.350966</td>\n",
       "      <td>0.008107</td>\n",
       "      <td>0.308777</td>\n",
       "    </tr>\n",
       "    <tr>\n",
       "      <th>mfcc10</th>\n",
       "      <td>0.053979</td>\n",
       "      <td>0.185232</td>\n",
       "      <td>0.226533</td>\n",
       "      <td>0.231082</td>\n",
       "      <td>0.434988</td>\n",
       "      <td>0.142676</td>\n",
       "      <td>-0.027657</td>\n",
       "      <td>0.142695</td>\n",
       "      <td>-0.092869</td>\n",
       "      <td>0.207520</td>\n",
       "      <td>...</td>\n",
       "      <td>1.000000</td>\n",
       "      <td>0.434444</td>\n",
       "      <td>0.469797</td>\n",
       "      <td>0.475247</td>\n",
       "      <td>0.163538</td>\n",
       "      <td>0.299116</td>\n",
       "      <td>0.097311</td>\n",
       "      <td>0.181735</td>\n",
       "      <td>0.086821</td>\n",
       "      <td>0.157959</td>\n",
       "    </tr>\n",
       "    <tr>\n",
       "      <th>mfcc11</th>\n",
       "      <td>0.235931</td>\n",
       "      <td>0.438312</td>\n",
       "      <td>0.468162</td>\n",
       "      <td>0.505973</td>\n",
       "      <td>0.547348</td>\n",
       "      <td>0.165231</td>\n",
       "      <td>-0.019458</td>\n",
       "      <td>0.151257</td>\n",
       "      <td>-0.098939</td>\n",
       "      <td>0.444907</td>\n",
       "      <td>...</td>\n",
       "      <td>0.434444</td>\n",
       "      <td>1.000000</td>\n",
       "      <td>0.341888</td>\n",
       "      <td>0.521979</td>\n",
       "      <td>0.338632</td>\n",
       "      <td>0.346822</td>\n",
       "      <td>0.039543</td>\n",
       "      <td>0.365703</td>\n",
       "      <td>0.008482</td>\n",
       "      <td>0.222442</td>\n",
       "    </tr>\n",
       "    <tr>\n",
       "      <th>mfcc12</th>\n",
       "      <td>-0.090805</td>\n",
       "      <td>0.024155</td>\n",
       "      <td>0.067462</td>\n",
       "      <td>0.098267</td>\n",
       "      <td>0.298046</td>\n",
       "      <td>0.166345</td>\n",
       "      <td>-0.011164</td>\n",
       "      <td>0.156240</td>\n",
       "      <td>-0.112337</td>\n",
       "      <td>0.111453</td>\n",
       "      <td>...</td>\n",
       "      <td>0.469797</td>\n",
       "      <td>0.341888</td>\n",
       "      <td>1.000000</td>\n",
       "      <td>0.289460</td>\n",
       "      <td>0.402203</td>\n",
       "      <td>0.368896</td>\n",
       "      <td>0.000185</td>\n",
       "      <td>0.230438</td>\n",
       "      <td>0.145971</td>\n",
       "      <td>0.087888</td>\n",
       "    </tr>\n",
       "    <tr>\n",
       "      <th>mfcc13</th>\n",
       "      <td>0.211259</td>\n",
       "      <td>0.386237</td>\n",
       "      <td>0.414394</td>\n",
       "      <td>0.451186</td>\n",
       "      <td>0.399025</td>\n",
       "      <td>0.147526</td>\n",
       "      <td>-0.000914</td>\n",
       "      <td>0.133978</td>\n",
       "      <td>-0.071424</td>\n",
       "      <td>0.368386</td>\n",
       "      <td>...</td>\n",
       "      <td>0.475247</td>\n",
       "      <td>0.521979</td>\n",
       "      <td>0.289460</td>\n",
       "      <td>1.000000</td>\n",
       "      <td>0.325877</td>\n",
       "      <td>0.525871</td>\n",
       "      <td>0.265171</td>\n",
       "      <td>0.313119</td>\n",
       "      <td>0.142199</td>\n",
       "      <td>0.325500</td>\n",
       "    </tr>\n",
       "    <tr>\n",
       "      <th>mfcc14</th>\n",
       "      <td>-0.082041</td>\n",
       "      <td>-0.002493</td>\n",
       "      <td>0.013595</td>\n",
       "      <td>0.045583</td>\n",
       "      <td>0.146412</td>\n",
       "      <td>0.116307</td>\n",
       "      <td>-0.001794</td>\n",
       "      <td>0.117706</td>\n",
       "      <td>-0.078885</td>\n",
       "      <td>0.038919</td>\n",
       "      <td>...</td>\n",
       "      <td>0.163538</td>\n",
       "      <td>0.338632</td>\n",
       "      <td>0.402203</td>\n",
       "      <td>0.325877</td>\n",
       "      <td>1.000000</td>\n",
       "      <td>0.403660</td>\n",
       "      <td>0.383275</td>\n",
       "      <td>0.391694</td>\n",
       "      <td>0.201245</td>\n",
       "      <td>0.240935</td>\n",
       "    </tr>\n",
       "    <tr>\n",
       "      <th>mfcc15</th>\n",
       "      <td>0.175625</td>\n",
       "      <td>0.299043</td>\n",
       "      <td>0.312249</td>\n",
       "      <td>0.329447</td>\n",
       "      <td>0.307333</td>\n",
       "      <td>0.160808</td>\n",
       "      <td>0.008250</td>\n",
       "      <td>0.150431</td>\n",
       "      <td>-0.064704</td>\n",
       "      <td>0.272358</td>\n",
       "      <td>...</td>\n",
       "      <td>0.299116</td>\n",
       "      <td>0.346822</td>\n",
       "      <td>0.368896</td>\n",
       "      <td>0.525871</td>\n",
       "      <td>0.403660</td>\n",
       "      <td>1.000000</td>\n",
       "      <td>0.290959</td>\n",
       "      <td>0.515211</td>\n",
       "      <td>0.312789</td>\n",
       "      <td>0.294074</td>\n",
       "    </tr>\n",
       "    <tr>\n",
       "      <th>mfcc16</th>\n",
       "      <td>-0.092151</td>\n",
       "      <td>-0.151593</td>\n",
       "      <td>-0.161499</td>\n",
       "      <td>-0.184342</td>\n",
       "      <td>-0.163910</td>\n",
       "      <td>0.040492</td>\n",
       "      <td>-0.020130</td>\n",
       "      <td>0.057657</td>\n",
       "      <td>-0.049678</td>\n",
       "      <td>-0.179681</td>\n",
       "      <td>...</td>\n",
       "      <td>0.097311</td>\n",
       "      <td>0.039543</td>\n",
       "      <td>0.000185</td>\n",
       "      <td>0.265171</td>\n",
       "      <td>0.383275</td>\n",
       "      <td>0.290959</td>\n",
       "      <td>1.000000</td>\n",
       "      <td>0.257161</td>\n",
       "      <td>0.422582</td>\n",
       "      <td>0.297818</td>\n",
       "    </tr>\n",
       "    <tr>\n",
       "      <th>mfcc17</th>\n",
       "      <td>0.118193</td>\n",
       "      <td>0.286027</td>\n",
       "      <td>0.303749</td>\n",
       "      <td>0.359013</td>\n",
       "      <td>0.285890</td>\n",
       "      <td>0.141023</td>\n",
       "      <td>-0.009608</td>\n",
       "      <td>0.142462</td>\n",
       "      <td>-0.082679</td>\n",
       "      <td>0.275082</td>\n",
       "      <td>...</td>\n",
       "      <td>0.181735</td>\n",
       "      <td>0.365703</td>\n",
       "      <td>0.230438</td>\n",
       "      <td>0.313119</td>\n",
       "      <td>0.391694</td>\n",
       "      <td>0.515211</td>\n",
       "      <td>0.257161</td>\n",
       "      <td>1.000000</td>\n",
       "      <td>0.307562</td>\n",
       "      <td>0.451738</td>\n",
       "    </tr>\n",
       "    <tr>\n",
       "      <th>mfcc18</th>\n",
       "      <td>-0.110052</td>\n",
       "      <td>-0.141790</td>\n",
       "      <td>-0.142500</td>\n",
       "      <td>-0.156563</td>\n",
       "      <td>-0.058547</td>\n",
       "      <td>0.046105</td>\n",
       "      <td>-0.016189</td>\n",
       "      <td>0.060429</td>\n",
       "      <td>-0.062953</td>\n",
       "      <td>-0.131998</td>\n",
       "      <td>...</td>\n",
       "      <td>0.086821</td>\n",
       "      <td>0.008482</td>\n",
       "      <td>0.145971</td>\n",
       "      <td>0.142199</td>\n",
       "      <td>0.201245</td>\n",
       "      <td>0.312789</td>\n",
       "      <td>0.422582</td>\n",
       "      <td>0.307562</td>\n",
       "      <td>1.000000</td>\n",
       "      <td>0.347433</td>\n",
       "    </tr>\n",
       "    <tr>\n",
       "      <th>mfcc19</th>\n",
       "      <td>0.134052</td>\n",
       "      <td>0.253802</td>\n",
       "      <td>0.259022</td>\n",
       "      <td>0.278880</td>\n",
       "      <td>0.189611</td>\n",
       "      <td>0.122074</td>\n",
       "      <td>-0.017554</td>\n",
       "      <td>0.122503</td>\n",
       "      <td>-0.035412</td>\n",
       "      <td>0.191386</td>\n",
       "      <td>...</td>\n",
       "      <td>0.157959</td>\n",
       "      <td>0.222442</td>\n",
       "      <td>0.087888</td>\n",
       "      <td>0.325500</td>\n",
       "      <td>0.240935</td>\n",
       "      <td>0.294074</td>\n",
       "      <td>0.297818</td>\n",
       "      <td>0.451738</td>\n",
       "      <td>0.347433</td>\n",
       "      <td>1.000000</td>\n",
       "    </tr>\n",
       "  </tbody>\n",
       "</table>\n",
       "<p>29 rows × 29 columns</p>\n",
       "</div>"
      ],
      "text/plain": [
       "                    zero_crossing  spectral_centroid  spectral_rolloff  \\\n",
       "zero_crossing            1.000000           0.836705          0.714102   \n",
       "spectral_centroid        0.836705           1.000000          0.974970   \n",
       "spectral_rolloff         0.714102           0.974970          1.000000   \n",
       "spectral_bandwidth       0.511658           0.883767          0.942248   \n",
       "chroma_frequency         0.398226           0.632987          0.669192   \n",
       "rmse                     0.030248           0.079660          0.089093   \n",
       "delta                   -0.000701          -0.009338         -0.005574   \n",
       "melspectogram           -0.039075           0.029239          0.047097   \n",
       "tempo                    0.024012          -0.035863         -0.052414   \n",
       "mfcc0                    0.463207           0.697601          0.720824   \n",
       "mfcc1                   -0.729600          -0.930388         -0.911167   \n",
       "mfcc2                   -0.116080           0.222895          0.333943   \n",
       "mfcc3                    0.210597           0.298294          0.307550   \n",
       "mfcc4                   -0.204832          -0.086900         -0.019326   \n",
       "mfcc5                    0.238932           0.420199          0.463667   \n",
       "mfcc6                   -0.108984          -0.058480         -0.024946   \n",
       "mfcc7                    0.190296           0.427769          0.480298   \n",
       "mfcc8                    0.099355           0.163647          0.183975   \n",
       "mfcc9                    0.225763           0.454655          0.490045   \n",
       "mfcc10                   0.053979           0.185232          0.226533   \n",
       "mfcc11                   0.235931           0.438312          0.468162   \n",
       "mfcc12                  -0.090805           0.024155          0.067462   \n",
       "mfcc13                   0.211259           0.386237          0.414394   \n",
       "mfcc14                  -0.082041          -0.002493          0.013595   \n",
       "mfcc15                   0.175625           0.299043          0.312249   \n",
       "mfcc16                  -0.092151          -0.151593         -0.161499   \n",
       "mfcc17                   0.118193           0.286027          0.303749   \n",
       "mfcc18                  -0.110052          -0.141790         -0.142500   \n",
       "mfcc19                   0.134052           0.253802          0.259022   \n",
       "\n",
       "                    spectral_bandwidth  chroma_frequency      rmse     delta  \\\n",
       "zero_crossing                 0.511658          0.398226  0.030248 -0.000701   \n",
       "spectral_centroid             0.883767          0.632987  0.079660 -0.009338   \n",
       "spectral_rolloff              0.942248          0.669192  0.089093 -0.005574   \n",
       "spectral_bandwidth            1.000000          0.658648  0.088186 -0.000997   \n",
       "chroma_frequency              0.658648          1.000000  0.164369  0.006934   \n",
       "rmse                          0.088186          0.164369  1.000000 -0.007573   \n",
       "delta                        -0.000997          0.006934 -0.007573  1.000000   \n",
       "melspectogram                 0.060653          0.139936  0.954087 -0.000252   \n",
       "tempo                        -0.064467         -0.125043 -0.080422 -0.008868   \n",
       "mfcc0                         0.742015          0.598550  0.554257 -0.001455   \n",
       "mfcc1                        -0.867854         -0.575157 -0.070841  0.006340   \n",
       "mfcc2                         0.461123          0.278345  0.100601  0.018871   \n",
       "mfcc3                         0.341850          0.344828 -0.031106  0.026878   \n",
       "mfcc4                         0.020236          0.234714  0.053644  0.036774   \n",
       "mfcc5                         0.493318          0.472884  0.112231  0.006791   \n",
       "mfcc6                         0.019744          0.140717  0.047043 -0.000011   \n",
       "mfcc7                         0.518489          0.564840  0.092051  0.024683   \n",
       "mfcc8                         0.175315          0.340263  0.133854 -0.052691   \n",
       "mfcc9                         0.556092          0.498507  0.141647 -0.012331   \n",
       "mfcc10                        0.231082          0.434988  0.142676 -0.027657   \n",
       "mfcc11                        0.505973          0.547348  0.165231 -0.019458   \n",
       "mfcc12                        0.098267          0.298046  0.166345 -0.011164   \n",
       "mfcc13                        0.451186          0.399025  0.147526 -0.000914   \n",
       "mfcc14                        0.045583          0.146412  0.116307 -0.001794   \n",
       "mfcc15                        0.329447          0.307333  0.160808  0.008250   \n",
       "mfcc16                       -0.184342         -0.163910  0.040492 -0.020130   \n",
       "mfcc17                        0.359013          0.285890  0.141023 -0.009608   \n",
       "mfcc18                       -0.156563         -0.058547  0.046105 -0.016189   \n",
       "mfcc19                        0.278880          0.189611  0.122074 -0.017554   \n",
       "\n",
       "                    melspectogram     tempo     mfcc0  ...    mfcc10  \\\n",
       "zero_crossing           -0.039075  0.024012  0.463207  ...  0.053979   \n",
       "spectral_centroid        0.029239 -0.035863  0.697601  ...  0.185232   \n",
       "spectral_rolloff         0.047097 -0.052414  0.720824  ...  0.226533   \n",
       "spectral_bandwidth       0.060653 -0.064467  0.742015  ...  0.231082   \n",
       "chroma_frequency         0.139936 -0.125043  0.598550  ...  0.434988   \n",
       "rmse                     0.954087 -0.080422  0.554257  ...  0.142676   \n",
       "delta                   -0.000252 -0.008868 -0.001455  ... -0.027657   \n",
       "melspectogram            1.000000 -0.064182  0.465012  ...  0.142695   \n",
       "tempo                   -0.064182  1.000000 -0.067099  ... -0.092869   \n",
       "mfcc0                    0.465012 -0.067099  1.000000  ...  0.207520   \n",
       "mfcc1                   -0.033352  0.046338 -0.607882  ... -0.168177   \n",
       "mfcc2                    0.095789 -0.069851  0.161292  ...  0.217109   \n",
       "mfcc3                   -0.056561  0.041063  0.356246  ...  0.086631   \n",
       "mfcc4                    0.050635 -0.051873 -0.071468  ...  0.247251   \n",
       "mfcc5                    0.086120 -0.056661  0.410239  ...  0.339810   \n",
       "mfcc6                    0.036493 -0.017009 -0.001990  ...  0.151765   \n",
       "mfcc7                    0.076386 -0.064486  0.426207  ...  0.440211   \n",
       "mfcc8                    0.122612 -0.015487  0.183107  ...  0.428346   \n",
       "mfcc9                    0.120587 -0.100365  0.457109  ...  0.316234   \n",
       "mfcc10                   0.142695 -0.092869  0.207520  ...  1.000000   \n",
       "mfcc11                   0.151257 -0.098939  0.444907  ...  0.434444   \n",
       "mfcc12                   0.156240 -0.112337  0.111453  ...  0.469797   \n",
       "mfcc13                   0.133978 -0.071424  0.368386  ...  0.475247   \n",
       "mfcc14                   0.117706 -0.078885  0.038919  ...  0.163538   \n",
       "mfcc15                   0.150431 -0.064704  0.272358  ...  0.299116   \n",
       "mfcc16                   0.057657 -0.049678 -0.179681  ...  0.097311   \n",
       "mfcc17                   0.142462 -0.082679  0.275082  ...  0.181735   \n",
       "mfcc18                   0.060429 -0.062953 -0.131998  ...  0.086821   \n",
       "mfcc19                   0.122503 -0.035412  0.191386  ...  0.157959   \n",
       "\n",
       "                      mfcc11    mfcc12    mfcc13    mfcc14    mfcc15  \\\n",
       "zero_crossing       0.235931 -0.090805  0.211259 -0.082041  0.175625   \n",
       "spectral_centroid   0.438312  0.024155  0.386237 -0.002493  0.299043   \n",
       "spectral_rolloff    0.468162  0.067462  0.414394  0.013595  0.312249   \n",
       "spectral_bandwidth  0.505973  0.098267  0.451186  0.045583  0.329447   \n",
       "chroma_frequency    0.547348  0.298046  0.399025  0.146412  0.307333   \n",
       "rmse                0.165231  0.166345  0.147526  0.116307  0.160808   \n",
       "delta              -0.019458 -0.011164 -0.000914 -0.001794  0.008250   \n",
       "melspectogram       0.151257  0.156240  0.133978  0.117706  0.150431   \n",
       "tempo              -0.098939 -0.112337 -0.071424 -0.078885 -0.064704   \n",
       "mfcc0               0.444907  0.111453  0.368386  0.038919  0.272358   \n",
       "mfcc1              -0.435583 -0.037477 -0.405355 -0.061447 -0.334237   \n",
       "mfcc2               0.262176  0.190373  0.244226  0.100696  0.173862   \n",
       "mfcc3               0.294139  0.025916  0.204605 -0.003434  0.073570   \n",
       "mfcc4               0.048406  0.268849  0.054175  0.109879  0.101950   \n",
       "mfcc5               0.458828  0.152096  0.435537  0.164213  0.267959   \n",
       "mfcc6               0.178831  0.144269  0.161946  0.188661  0.122151   \n",
       "mfcc7               0.439638  0.344671  0.395987  0.139250  0.290008   \n",
       "mfcc8               0.407619  0.177764  0.388244  0.231063  0.269349   \n",
       "mfcc9               0.583837  0.341054  0.420167  0.272215  0.357386   \n",
       "mfcc10              0.434444  0.469797  0.475247  0.163538  0.299116   \n",
       "mfcc11              1.000000  0.341888  0.521979  0.338632  0.346822   \n",
       "mfcc12              0.341888  1.000000  0.289460  0.402203  0.368896   \n",
       "mfcc13              0.521979  0.289460  1.000000  0.325877  0.525871   \n",
       "mfcc14              0.338632  0.402203  0.325877  1.000000  0.403660   \n",
       "mfcc15              0.346822  0.368896  0.525871  0.403660  1.000000   \n",
       "mfcc16              0.039543  0.000185  0.265171  0.383275  0.290959   \n",
       "mfcc17              0.365703  0.230438  0.313119  0.391694  0.515211   \n",
       "mfcc18              0.008482  0.145971  0.142199  0.201245  0.312789   \n",
       "mfcc19              0.222442  0.087888  0.325500  0.240935  0.294074   \n",
       "\n",
       "                      mfcc16    mfcc17    mfcc18    mfcc19  \n",
       "zero_crossing      -0.092151  0.118193 -0.110052  0.134052  \n",
       "spectral_centroid  -0.151593  0.286027 -0.141790  0.253802  \n",
       "spectral_rolloff   -0.161499  0.303749 -0.142500  0.259022  \n",
       "spectral_bandwidth -0.184342  0.359013 -0.156563  0.278880  \n",
       "chroma_frequency   -0.163910  0.285890 -0.058547  0.189611  \n",
       "rmse                0.040492  0.141023  0.046105  0.122074  \n",
       "delta              -0.020130 -0.009608 -0.016189 -0.017554  \n",
       "melspectogram       0.057657  0.142462  0.060429  0.122503  \n",
       "tempo              -0.049678 -0.082679 -0.062953 -0.035412  \n",
       "mfcc0              -0.179681  0.275082 -0.131998  0.191386  \n",
       "mfcc1               0.120134 -0.345842  0.120121 -0.321047  \n",
       "mfcc2              -0.080646  0.191893 -0.128495  0.157197  \n",
       "mfcc3              -0.141949 -0.017532 -0.063906 -0.096816  \n",
       "mfcc4              -0.025155  0.058323 -0.001009  0.080456  \n",
       "mfcc5              -0.010077  0.167854 -0.029405  0.142461  \n",
       "mfcc6               0.120419  0.023489  0.099060  0.022926  \n",
       "mfcc7              -0.067418  0.217715 -0.112731  0.175632  \n",
       "mfcc8               0.197587  0.149767  0.194488  0.153783  \n",
       "mfcc9               0.017879  0.350966  0.008107  0.308777  \n",
       "mfcc10              0.097311  0.181735  0.086821  0.157959  \n",
       "mfcc11              0.039543  0.365703  0.008482  0.222442  \n",
       "mfcc12              0.000185  0.230438  0.145971  0.087888  \n",
       "mfcc13              0.265171  0.313119  0.142199  0.325500  \n",
       "mfcc14              0.383275  0.391694  0.201245  0.240935  \n",
       "mfcc15              0.290959  0.515211  0.312789  0.294074  \n",
       "mfcc16              1.000000  0.257161  0.422582  0.297818  \n",
       "mfcc17              0.257161  1.000000  0.307562  0.451738  \n",
       "mfcc18              0.422582  0.307562  1.000000  0.347433  \n",
       "mfcc19              0.297818  0.451738  0.347433  1.000000  \n",
       "\n",
       "[29 rows x 29 columns]"
      ]
     },
     "execution_count": 29,
     "metadata": {},
     "output_type": "execute_result"
    }
   ],
   "source": [
    "# Checking correlation\n",
    "data.corr()"
   ]
  },
  {
   "cell_type": "code",
   "execution_count": 30,
   "id": "1b0c929e",
   "metadata": {},
   "outputs": [
    {
     "data": {
      "text/plain": [
       "file_name              object\n",
       "zero_crossing           int64\n",
       "spectral_centroid     float64\n",
       "spectral_rolloff      float64\n",
       "spectral_bandwidth    float64\n",
       "chroma_frequency      float64\n",
       "rmse                  float64\n",
       "delta                 float64\n",
       "melspectogram         float64\n",
       "tempo                 float64\n",
       "mfcc0                 float64\n",
       "mfcc1                 float64\n",
       "mfcc2                 float64\n",
       "mfcc3                 float64\n",
       "mfcc4                 float64\n",
       "mfcc5                 float64\n",
       "mfcc6                 float64\n",
       "mfcc7                 float64\n",
       "mfcc8                 float64\n",
       "mfcc9                 float64\n",
       "mfcc10                float64\n",
       "mfcc11                float64\n",
       "mfcc12                float64\n",
       "mfcc13                float64\n",
       "mfcc14                float64\n",
       "mfcc15                float64\n",
       "mfcc16                float64\n",
       "mfcc17                float64\n",
       "mfcc18                float64\n",
       "mfcc19                float64\n",
       "label                  object\n",
       "dtype: object"
      ]
     },
     "execution_count": 30,
     "metadata": {},
     "output_type": "execute_result"
    }
   ],
   "source": [
    "data.dtypes"
   ]
  },
  {
   "cell_type": "markdown",
   "id": "0a61bb23",
   "metadata": {},
   "source": [
    "# OneHotEncoder Method"
   ]
  },
  {
   "cell_type": "code",
   "execution_count": 31,
   "id": "9bf9ee6f",
   "metadata": {},
   "outputs": [],
   "source": [
    "def OneHotEncoderMethod(indices,data):\n",
    "    from sklearn.preprocessing import OneHotEncoder\n",
    "    from sklearn.compose import ColumnTransformer\n",
    "    ColumnTransformer = ColumnTransformer([('encoder', OneHotEncoder(),indices)],remainder = 'passthrough')\n",
    "    return ColumnTransformer.fit_transform(data)"
   ]
  },
  {
   "cell_type": "markdown",
   "id": "69b446f8",
   "metadata": {},
   "source": [
    "# Label Encoding Method"
   ]
  },
  {
   "cell_type": "code",
   "execution_count": 32,
   "id": "75f1fa82",
   "metadata": {},
   "outputs": [],
   "source": [
    "def LabelEncodingMethod(series):\n",
    "    from sklearn import preprocessing\n",
    "    le = preprocessing.LabelEncoder()\n",
    "    le.fit(series)\n",
    "    #print('Actual labels :',le.classes_)\n",
    "    #print('Encoding values :',le.transform(pd.unique(series)))\n",
    "    return le.fit_transform(series)"
   ]
  },
  {
   "cell_type": "markdown",
   "id": "8aad9696",
   "metadata": {},
   "source": [
    "## Label encoding target feature"
   ]
  },
  {
   "cell_type": "code",
   "execution_count": 33,
   "id": "3aa1b93b",
   "metadata": {},
   "outputs": [],
   "source": [
    "y = LabelEncodingMethod(y)"
   ]
  },
  {
   "cell_type": "markdown",
   "id": "22d701a9",
   "metadata": {},
   "source": [
    "# Encoding Selection for X"
   ]
  },
  {
   "cell_type": "code",
   "execution_count": 34,
   "id": "9ba5e9b8",
   "metadata": {},
   "outputs": [],
   "source": [
    "def EncodingSelection(X,threshold =10):\n",
    "    #Step 1: selecting the columns\n",
    "    string_cols = list((np.where(X.dtypes ==object))[0])\n",
    "    one_hot_encoding_indices = []\n",
    "    \n",
    "    #Step 2: if the no. of category is 2 and more than threshold, then label encode\n",
    "    for col in string_cols:\n",
    "        length = len(pd.unique(X[X.columns[col]]))\n",
    "        if length == 2 or length > threshold:\n",
    "            X[X.columns[col]] = LabelEncodingMethod(X[X.columns[col]])\n",
    "        else:\n",
    "            one_hot_encoding_indices.append(col)\n",
    "    #Step 3: OneHotEncoding\n",
    "    X = OneHotEncoderMethod(one_hot_encoding_indices,X)\n",
    "    return X"
   ]
  },
  {
   "cell_type": "code",
   "execution_count": 35,
   "id": "704a8d69",
   "metadata": {},
   "outputs": [],
   "source": [
    "X = EncodingSelection(X)"
   ]
  },
  {
   "cell_type": "code",
   "execution_count": 36,
   "id": "93b4f792",
   "metadata": {},
   "outputs": [
    {
     "data": {
      "text/plain": [
       "(1742, 30)"
      ]
     },
     "execution_count": 36,
     "metadata": {},
     "output_type": "execute_result"
    }
   ],
   "source": [
    "X.shape"
   ]
  },
  {
   "cell_type": "code",
   "execution_count": 37,
   "id": "0383105e",
   "metadata": {},
   "outputs": [
    {
     "data": {
      "text/plain": [
       "<AxesSubplot:>"
      ]
     },
     "execution_count": 37,
     "metadata": {},
     "output_type": "execute_result"
    },
    {
     "data": {
      "image/png": "[encoded data removed]",
      "text/plain": [
       "<Figure size 432x288 with 2 Axes>"
      ]
     },
     "metadata": {
      "needs_background": "light"
     },
     "output_type": "display_data"
    }
   ],
   "source": [
    "sns.heatmap(data.corr())"
   ]
  },
  {
   "cell_type": "markdown",
   "id": "15464173",
   "metadata": {},
   "source": [
    "# Feature Selection"
   ]
  },
  {
   "cell_type": "code",
   "execution_count": 38,
   "id": "e1f1155f",
   "metadata": {},
   "outputs": [],
   "source": [
    "from sklearn.feature_selection import SelectKBest, chi2"
   ]
  },
  {
   "cell_type": "code",
   "execution_count": 39,
   "id": "1bbcf005",
   "metadata": {},
   "outputs": [],
   "source": [
    "kbest = SelectKBest(score_func = chi2 , k = 10)"
   ]
  },
  {
   "cell_type": "code",
   "execution_count": 40,
   "id": "08ecce2c",
   "metadata": {},
   "outputs": [],
   "source": [
    "# To remove negative values we do MinMaxScaler feature scaling"
   ]
  },
  {
   "cell_type": "code",
   "execution_count": 41,
   "id": "6f7ee41e",
   "metadata": {},
   "outputs": [],
   "source": [
    "from sklearn import preprocessing\n",
    "MMS = preprocessing.MinMaxScaler()"
   ]
  },
  {
   "cell_type": "code",
   "execution_count": 42,
   "id": "c0d8092f",
   "metadata": {},
   "outputs": [],
   "source": [
    "x_temp = MMS.fit_transform(X)"
   ]
  },
  {
   "cell_type": "code",
   "execution_count": 43,
   "id": "ae764563",
   "metadata": {},
   "outputs": [],
   "source": [
    "x_temp = kbest.fit(x_temp,y)"
   ]
  },
  {
   "cell_type": "code",
   "execution_count": 44,
   "id": "c1d54759",
   "metadata": {},
   "outputs": [
    {
     "data": {
      "text/plain": [
       "array([6.24794412e+01, 1.81498846e+01, 3.36656369e+01, 5.83373272e+01,\n",
       "       6.13838139e+01, 2.84340414e+01, 6.47411925e+00, 2.71975832e-02,\n",
       "       8.28887917e+00, 9.48043058e+00, 3.31196542e+00, 3.39820060e+01,\n",
       "       1.34286132e+01, 6.04780314e+00, 6.77965948e+00, 8.35281818e+00,\n",
       "       6.86805005e-01, 1.42949216e+01, 2.79750499e+00, 1.21794670e+01,\n",
       "       7.33487609e+00, 1.17649542e+01, 8.62045526e+00, 9.84494249e+00,\n",
       "       4.85243852e+00, 4.98167889e+00, 4.59031616e+00, 5.81612046e+00,\n",
       "       2.33970479e+00, 3.53054882e+00])"
      ]
     },
     "execution_count": 44,
     "metadata": {},
     "output_type": "execute_result"
    }
   ],
   "source": [
    "x_temp.scores_"
   ]
  },
  {
   "cell_type": "code",
   "execution_count": 45,
   "id": "d30da67f",
   "metadata": {},
   "outputs": [
    {
     "name": "stdout",
     "output_type": "stream",
     "text": [
      "0.0271975832\n",
      "0.6868050046\n",
      "2.3397047894\n",
      "2.7975049948\n",
      "3.3119654169\n",
      "3.5305488200\n",
      "4.5903161642\n",
      "4.8524385223\n",
      "4.9816788854\n",
      "5.8161204587\n",
      "6.0478031356\n",
      "6.4741192522\n",
      "6.7796594778\n",
      "7.3348760909\n",
      "8.2888791672\n",
      "8.3528181844\n",
      "8.6204552551\n",
      "9.4804305785\n",
      "9.8449424876\n",
      "11.7649541528\n",
      "12.1794669732\n",
      "13.4286132002\n",
      "14.2949215813\n",
      "18.1498845738\n",
      "28.4340413913\n",
      "33.6656369349\n",
      "33.9820059509\n",
      "58.3373272361\n",
      "61.3838139208\n",
      "62.4794411646\n"
     ]
    }
   ],
   "source": [
    "for i in np.sort(x_temp.scores_):\n",
    "    print('{0:.10f}'.format(i))"
   ]
  },
  {
   "cell_type": "code",
   "execution_count": 46,
   "id": "d0fed668",
   "metadata": {},
   "outputs": [
    {
     "data": {
      "text/plain": [
       "array([ 7, 16, 28, 18, 10, 29, 26, 24, 25, 27, 13,  6, 14, 20,  8, 15, 22,\n",
       "        9, 23, 21, 19, 12, 17,  1,  5,  2, 11,  3,  4,  0], dtype=int64)"
      ]
     },
     "execution_count": 46,
     "metadata": {},
     "output_type": "execute_result"
    }
   ],
   "source": [
    "np.argsort(x_temp.scores_)"
   ]
  },
  {
   "cell_type": "code",
   "execution_count": 47,
   "id": "59d2dc5d",
   "metadata": {},
   "outputs": [],
   "source": [
    "k_features = 12\n",
    "best_features = np.argsort(x_temp.scores_)[-k_features:]\n",
    "features_to_delete = np.argsort(x_temp.scores_)[:-k_features]"
   ]
  },
  {
   "cell_type": "code",
   "execution_count": 48,
   "id": "1090b7cf",
   "metadata": {},
   "outputs": [
    {
     "data": {
      "text/plain": [
       "array([ 7, 16, 28, 18, 10, 29, 26, 24, 25, 27, 13,  6, 14, 20,  8, 15, 22,\n",
       "        9], dtype=int64)"
      ]
     },
     "execution_count": 48,
     "metadata": {},
     "output_type": "execute_result"
    }
   ],
   "source": [
    "features_to_delete"
   ]
  },
  {
   "cell_type": "code",
   "execution_count": 49,
   "id": "785d99fe",
   "metadata": {},
   "outputs": [],
   "source": [
    "# Delete columns which are not useful\n",
    "X = np.delete(X, features_to_delete, axis =1)"
   ]
  },
  {
   "cell_type": "code",
   "execution_count": 51,
   "id": "1cbe2e47",
   "metadata": {},
   "outputs": [
    {
     "data": {
      "text/plain": [
       "(1742, 12)"
      ]
     },
     "execution_count": 51,
     "metadata": {},
     "output_type": "execute_result"
    }
   ],
   "source": [
    "X.shape"
   ]
  },
  {
   "cell_type": "code",
   "execution_count": 52,
   "id": "1403c853",
   "metadata": {},
   "outputs": [],
   "source": [
    "del x_temp"
   ]
  },
  {
   "cell_type": "markdown",
   "id": "02ab290e",
   "metadata": {},
   "source": [
    "# Train test split"
   ]
  },
  {
   "cell_type": "code",
   "execution_count": 53,
   "id": "75226ae8",
   "metadata": {},
   "outputs": [],
   "source": [
    "import numpy as np\n",
    "from sklearn.model_selection import train_test_split"
   ]
  },
  {
   "cell_type": "code",
   "execution_count": 54,
   "id": "6f104f35",
   "metadata": {},
   "outputs": [],
   "source": [
    "X_train, X_test, y_train, y_test = train_test_split(X,y , test_size =0.2, random_state =1)"
   ]
  },
  {
   "cell_type": "code",
   "execution_count": 55,
   "id": "2c273b51",
   "metadata": {},
   "outputs": [
    {
     "name": "stdout",
     "output_type": "stream",
     "text": [
      "(1393, 12)\n"
     ]
    }
   ],
   "source": [
    "print(X_train.shape)"
   ]
  },
  {
   "cell_type": "markdown",
   "id": "0027131f",
   "metadata": {},
   "source": [
    "# Feature Scaling"
   ]
  },
  {
   "cell_type": "code",
   "execution_count": 56,
   "id": "bdef2d84",
   "metadata": {},
   "outputs": [],
   "source": [
    "from sklearn import preprocessing"
   ]
  },
  {
   "cell_type": "code",
   "execution_count": 57,
   "id": "d04b5696",
   "metadata": {},
   "outputs": [],
   "source": [
    "sc = preprocessing.StandardScaler(with_mean=False)"
   ]
  },
  {
   "cell_type": "code",
   "execution_count": 58,
   "id": "2d848212",
   "metadata": {},
   "outputs": [
    {
     "data": {
      "text/plain": [
       "StandardScaler(with_mean=False)"
      ]
     },
     "execution_count": 58,
     "metadata": {},
     "output_type": "execute_result"
    }
   ],
   "source": [
    "sc.fit(X_train)"
   ]
  },
  {
   "cell_type": "code",
   "execution_count": 59,
   "id": "097e314e",
   "metadata": {},
   "outputs": [],
   "source": [
    "X_train = sc.transform(X_train)"
   ]
  },
  {
   "cell_type": "code",
   "execution_count": 60,
   "id": "90ec721c",
   "metadata": {},
   "outputs": [
    {
     "name": "stdout",
     "output_type": "stream",
     "text": [
      "(1393, 12)\n"
     ]
    }
   ],
   "source": [
    "print(X_train.shape)"
   ]
  },
  {
   "cell_type": "code",
   "execution_count": 61,
   "id": "9d60db6b",
   "metadata": {},
   "outputs": [],
   "source": [
    "X_test = sc.transform(X_test)"
   ]
  },
  {
   "cell_type": "code",
   "execution_count": 62,
   "id": "6bd466c8",
   "metadata": {},
   "outputs": [
    {
     "name": "stdout",
     "output_type": "stream",
     "text": [
      "(349, 12)\n"
     ]
    }
   ],
   "source": [
    "print(X_test.shape)"
   ]
  },
  {
   "cell_type": "markdown",
   "id": "8b92b418",
   "metadata": {},
   "source": [
    "####  Data is ready !!!"
   ]
  },
  {
   "cell_type": "code",
   "execution_count": 63,
   "id": "33e4171e",
   "metadata": {},
   "outputs": [],
   "source": [
    "from sklearn.metrics import accuracy_score"
   ]
  },
  {
   "cell_type": "markdown",
   "id": "0adb5bdf",
   "metadata": {},
   "source": [
    "# Building KNN model"
   ]
  },
  {
   "cell_type": "code",
   "execution_count": 73,
   "id": "20d5f549",
   "metadata": {},
   "outputs": [
    {
     "data": {
      "text/plain": [
       "0.6790830945558739"
      ]
     },
     "execution_count": 73,
     "metadata": {},
     "output_type": "execute_result"
    }
   ],
   "source": [
    "from sklearn.neighbors import KNeighborsClassifier\n",
    "KNNClassifier = KNeighborsClassifier(n_neighbors=8)\n",
    "KNNClassifier.fit(X_train,y_train)\n",
    "y_pred = KNNClassifier.predict(X_test)\n",
    "accuracy_score(y_test, y_pred)"
   ]
  }
 ],
 "metadata": {
  "kernelspec": {
   "display_name": "Python 3 (ipykernel)",
   "language": "python",
   "name": "python3"
  },
  "language_info": {
   "codemirror_mode": {
    "name": "ipython",
    "version": 3
   },
   "file_extension": ".py",
   "mimetype": "text/x-python",
   "name": "python",
   "nbconvert_exporter": "python",
   "pygments_lexer": "ipython3",
   "version": "3.9.7"
  }
 },
 "nbformat": 4,
 "nbformat_minor": 5
}
