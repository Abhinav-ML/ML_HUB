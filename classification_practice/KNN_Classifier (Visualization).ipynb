{
 "cells": [
  {
   "cell_type": "markdown",
   "id": "7da4c0f7",
   "metadata": {},
   "source": [
    "# Importing Data\n",
    "https://www.kaggle.com/datasets/jsphyg/weather-dataset-rattle-package"
   ]
  },
  {
   "cell_type": "code",
   "execution_count": 142,
   "id": "4a8735c0",
   "metadata": {},
   "outputs": [],
   "source": [
    "import pandas as pd\n",
    "import seaborn as sns"
   ]
  },
  {
   "cell_type": "code",
   "execution_count": 143,
   "id": "6083a7e4",
   "metadata": {},
   "outputs": [],
   "source": [
    "data = pd.read_csv('weatherAUS.csv')"
   ]
  },
  {
   "cell_type": "code",
   "execution_count": 144,
   "id": "62f5c9ab",
   "metadata": {},
   "outputs": [
    {
     "data": {
      "text/html": [
       "<div>\n",
       "<style scoped>\n",
       "    .dataframe tbody tr th:only-of-type {\n",
       "        vertical-align: middle;\n",
       "    }\n",
       "\n",
       "    .dataframe tbody tr th {\n",
       "        vertical-align: top;\n",
       "    }\n",
       "\n",
       "    .dataframe thead th {\n",
       "        text-align: right;\n",
       "    }\n",
       "</style>\n",
       "<table border=\"1\" class=\"dataframe\">\n",
       "  <thead>\n",
       "    <tr style=\"text-align: right;\">\n",
       "      <th></th>\n",
       "      <th>Date</th>\n",
       "      <th>Location</th>\n",
       "      <th>MinTemp</th>\n",
       "      <th>MaxTemp</th>\n",
       "      <th>Rainfall</th>\n",
       "      <th>Evaporation</th>\n",
       "      <th>Sunshine</th>\n",
       "      <th>WindGustDir</th>\n",
       "      <th>WindGustSpeed</th>\n",
       "      <th>WindDir9am</th>\n",
       "      <th>...</th>\n",
       "      <th>Humidity9am</th>\n",
       "      <th>Humidity3pm</th>\n",
       "      <th>Pressure9am</th>\n",
       "      <th>Pressure3pm</th>\n",
       "      <th>Cloud9am</th>\n",
       "      <th>Cloud3pm</th>\n",
       "      <th>Temp9am</th>\n",
       "      <th>Temp3pm</th>\n",
       "      <th>RainToday</th>\n",
       "      <th>RainTomorrow</th>\n",
       "    </tr>\n",
       "  </thead>\n",
       "  <tbody>\n",
       "    <tr>\n",
       "      <th>0</th>\n",
       "      <td>01-12-2008</td>\n",
       "      <td>Albury</td>\n",
       "      <td>13.4</td>\n",
       "      <td>22.9</td>\n",
       "      <td>0.6</td>\n",
       "      <td>NaN</td>\n",
       "      <td>NaN</td>\n",
       "      <td>W</td>\n",
       "      <td>44.0</td>\n",
       "      <td>W</td>\n",
       "      <td>...</td>\n",
       "      <td>71.0</td>\n",
       "      <td>22.0</td>\n",
       "      <td>1007.7</td>\n",
       "      <td>1007.1</td>\n",
       "      <td>8.0</td>\n",
       "      <td>NaN</td>\n",
       "      <td>16.9</td>\n",
       "      <td>21.8</td>\n",
       "      <td>No</td>\n",
       "      <td>No</td>\n",
       "    </tr>\n",
       "    <tr>\n",
       "      <th>1</th>\n",
       "      <td>02-12-2008</td>\n",
       "      <td>Albury</td>\n",
       "      <td>7.4</td>\n",
       "      <td>25.1</td>\n",
       "      <td>0.0</td>\n",
       "      <td>NaN</td>\n",
       "      <td>NaN</td>\n",
       "      <td>WNW</td>\n",
       "      <td>44.0</td>\n",
       "      <td>NNW</td>\n",
       "      <td>...</td>\n",
       "      <td>44.0</td>\n",
       "      <td>25.0</td>\n",
       "      <td>1010.6</td>\n",
       "      <td>1007.8</td>\n",
       "      <td>NaN</td>\n",
       "      <td>NaN</td>\n",
       "      <td>17.2</td>\n",
       "      <td>24.3</td>\n",
       "      <td>No</td>\n",
       "      <td>No</td>\n",
       "    </tr>\n",
       "    <tr>\n",
       "      <th>2</th>\n",
       "      <td>03-12-2008</td>\n",
       "      <td>Albury</td>\n",
       "      <td>12.9</td>\n",
       "      <td>25.7</td>\n",
       "      <td>0.0</td>\n",
       "      <td>NaN</td>\n",
       "      <td>NaN</td>\n",
       "      <td>WSW</td>\n",
       "      <td>46.0</td>\n",
       "      <td>W</td>\n",
       "      <td>...</td>\n",
       "      <td>38.0</td>\n",
       "      <td>30.0</td>\n",
       "      <td>1007.6</td>\n",
       "      <td>1008.7</td>\n",
       "      <td>NaN</td>\n",
       "      <td>2.0</td>\n",
       "      <td>21.0</td>\n",
       "      <td>23.2</td>\n",
       "      <td>No</td>\n",
       "      <td>No</td>\n",
       "    </tr>\n",
       "    <tr>\n",
       "      <th>3</th>\n",
       "      <td>04-12-2008</td>\n",
       "      <td>Albury</td>\n",
       "      <td>9.2</td>\n",
       "      <td>28.0</td>\n",
       "      <td>0.0</td>\n",
       "      <td>NaN</td>\n",
       "      <td>NaN</td>\n",
       "      <td>NE</td>\n",
       "      <td>24.0</td>\n",
       "      <td>SE</td>\n",
       "      <td>...</td>\n",
       "      <td>45.0</td>\n",
       "      <td>16.0</td>\n",
       "      <td>1017.6</td>\n",
       "      <td>1012.8</td>\n",
       "      <td>NaN</td>\n",
       "      <td>NaN</td>\n",
       "      <td>18.1</td>\n",
       "      <td>26.5</td>\n",
       "      <td>No</td>\n",
       "      <td>No</td>\n",
       "    </tr>\n",
       "    <tr>\n",
       "      <th>4</th>\n",
       "      <td>05-12-2008</td>\n",
       "      <td>Albury</td>\n",
       "      <td>17.5</td>\n",
       "      <td>32.3</td>\n",
       "      <td>1.0</td>\n",
       "      <td>NaN</td>\n",
       "      <td>NaN</td>\n",
       "      <td>W</td>\n",
       "      <td>41.0</td>\n",
       "      <td>ENE</td>\n",
       "      <td>...</td>\n",
       "      <td>82.0</td>\n",
       "      <td>33.0</td>\n",
       "      <td>1010.8</td>\n",
       "      <td>1006.0</td>\n",
       "      <td>7.0</td>\n",
       "      <td>8.0</td>\n",
       "      <td>17.8</td>\n",
       "      <td>29.7</td>\n",
       "      <td>No</td>\n",
       "      <td>No</td>\n",
       "    </tr>\n",
       "  </tbody>\n",
       "</table>\n",
       "<p>5 rows × 23 columns</p>\n",
       "</div>"
      ],
      "text/plain": [
       "         Date Location  MinTemp  MaxTemp  Rainfall  Evaporation  Sunshine  \\\n",
       "0  01-12-2008   Albury     13.4     22.9       0.6          NaN       NaN   \n",
       "1  02-12-2008   Albury      7.4     25.1       0.0          NaN       NaN   \n",
       "2  03-12-2008   Albury     12.9     25.7       0.0          NaN       NaN   \n",
       "3  04-12-2008   Albury      9.2     28.0       0.0          NaN       NaN   \n",
       "4  05-12-2008   Albury     17.5     32.3       1.0          NaN       NaN   \n",
       "\n",
       "  WindGustDir  WindGustSpeed WindDir9am  ... Humidity9am  Humidity3pm  \\\n",
       "0           W           44.0          W  ...        71.0         22.0   \n",
       "1         WNW           44.0        NNW  ...        44.0         25.0   \n",
       "2         WSW           46.0          W  ...        38.0         30.0   \n",
       "3          NE           24.0         SE  ...        45.0         16.0   \n",
       "4           W           41.0        ENE  ...        82.0         33.0   \n",
       "\n",
       "   Pressure9am  Pressure3pm  Cloud9am  Cloud3pm  Temp9am  Temp3pm  RainToday  \\\n",
       "0       1007.7       1007.1       8.0       NaN     16.9     21.8         No   \n",
       "1       1010.6       1007.8       NaN       NaN     17.2     24.3         No   \n",
       "2       1007.6       1008.7       NaN       2.0     21.0     23.2         No   \n",
       "3       1017.6       1012.8       NaN       NaN     18.1     26.5         No   \n",
       "4       1010.8       1006.0       7.0       8.0     17.8     29.7         No   \n",
       "\n",
       "   RainTomorrow  \n",
       "0            No  \n",
       "1            No  \n",
       "2            No  \n",
       "3            No  \n",
       "4            No  \n",
       "\n",
       "[5 rows x 23 columns]"
      ]
     },
     "execution_count": 144,
     "metadata": {},
     "output_type": "execute_result"
    }
   ],
   "source": [
    "data.head()"
   ]
  },
  {
   "cell_type": "markdown",
   "id": "5f95a8e7",
   "metadata": {},
   "source": [
    "# Separating Features and Target Variable"
   ]
  },
  {
   "cell_type": "code",
   "execution_count": 145,
   "id": "99589a3a",
   "metadata": {},
   "outputs": [],
   "source": [
    "X = data.iloc[:,:-1] "
   ]
  },
  {
   "cell_type": "code",
   "execution_count": 146,
   "id": "c7b2cecc",
   "metadata": {},
   "outputs": [
    {
     "name": "stdout",
     "output_type": "stream",
     "text": [
      "Date              object\n",
      "Location          object\n",
      "MinTemp          float64\n",
      "MaxTemp          float64\n",
      "Rainfall         float64\n",
      "Evaporation      float64\n",
      "Sunshine         float64\n",
      "WindGustDir       object\n",
      "WindGustSpeed    float64\n",
      "WindDir9am        object\n",
      "WindDir3pm        object\n",
      "WindSpeed9am     float64\n",
      "WindSpeed3pm     float64\n",
      "Humidity9am      float64\n",
      "Humidity3pm      float64\n",
      "Pressure9am      float64\n",
      "Pressure3pm      float64\n",
      "Cloud9am         float64\n",
      "Cloud3pm         float64\n",
      "Temp9am          float64\n",
      "Temp3pm          float64\n",
      "RainToday         object\n",
      "dtype: object\n"
     ]
    }
   ],
   "source": [
    "X\n",
    "print(X.dtypes)"
   ]
  },
  {
   "cell_type": "code",
   "execution_count": 147,
   "id": "e3dfa287",
   "metadata": {},
   "outputs": [],
   "source": [
    "y = data.iloc[:,-1]"
   ]
  },
  {
   "cell_type": "code",
   "execution_count": 148,
   "id": "4fd983b0",
   "metadata": {},
   "outputs": [
    {
     "data": {
      "text/plain": [
       "0          No\n",
       "1          No\n",
       "2          No\n",
       "3          No\n",
       "4          No\n",
       "         ... \n",
       "145455     No\n",
       "145456     No\n",
       "145457     No\n",
       "145458     No\n",
       "145459    Yes\n",
       "Name: RainTomorrow, Length: 145460, dtype: object"
      ]
     },
     "execution_count": 148,
     "metadata": {},
     "output_type": "execute_result"
    }
   ],
   "source": [
    "y"
   ]
  },
  {
   "cell_type": "markdown",
   "id": "68398437",
   "metadata": {},
   "source": [
    "# Handling Missing data"
   ]
  },
  {
   "cell_type": "code",
   "execution_count": 149,
   "id": "b8fd5dfe",
   "metadata": {},
   "outputs": [],
   "source": [
    "import numpy as np\n",
    "from sklearn.impute import SimpleImputer\n",
    "imp_mean = SimpleImputer(missing_values = np.nan , strategy = 'mean')"
   ]
  },
  {
   "cell_type": "code",
   "execution_count": 150,
   "id": "04cbc8cf",
   "metadata": {},
   "outputs": [
    {
     "data": {
      "text/plain": [
       "[2, 3, 4, 5, 6, 8, 11, 12, 13, 14, 15, 16, 17, 18, 19, 20]"
      ]
     },
     "execution_count": 150,
     "metadata": {},
     "output_type": "execute_result"
    }
   ],
   "source": [
    "numerical_cols = list(np.where((X.dtypes == np.int64) | (X.dtypes == np.float64))[0])\n",
    "\n",
    "numerical_cols"
   ]
  },
  {
   "cell_type": "code",
   "execution_count": 151,
   "id": "2e4618fe",
   "metadata": {},
   "outputs": [
    {
     "data": {
      "text/plain": [
       "SimpleImputer()"
      ]
     },
     "execution_count": 151,
     "metadata": {},
     "output_type": "execute_result"
    }
   ],
   "source": [
    "imp_mean.fit(X.iloc[:,numerical_cols]) # now, fitting mean value in place of nan values based on the column which have numeric values"
   ]
  },
  {
   "cell_type": "code",
   "execution_count": 152,
   "id": "2c7b434a",
   "metadata": {},
   "outputs": [],
   "source": [
    "X.iloc[:,numerical_cols] = imp_mean.transform(X.iloc[:,numerical_cols]) # updating/transforming the actual data i.e, X"
   ]
  },
  {
   "cell_type": "markdown",
   "id": "86a9a144",
   "metadata": {},
   "source": [
    "# Handling Missing String data"
   ]
  },
  {
   "cell_type": "code",
   "execution_count": 153,
   "id": "5e3495e2",
   "metadata": {},
   "outputs": [],
   "source": [
    "imp_mean = SimpleImputer(missing_values = np.nan , strategy = 'most_frequent')"
   ]
  },
  {
   "cell_type": "code",
   "execution_count": 154,
   "id": "e24f2cf3",
   "metadata": {},
   "outputs": [
    {
     "data": {
      "text/plain": [
       "[0, 1, 7, 9, 10, 21]"
      ]
     },
     "execution_count": 154,
     "metadata": {},
     "output_type": "execute_result"
    }
   ],
   "source": [
    "string_cols = list((np.where(X.dtypes ==object))[0])\n",
    "string_cols  "
   ]
  },
  {
   "cell_type": "code",
   "execution_count": 155,
   "id": "551a0778",
   "metadata": {},
   "outputs": [
    {
     "data": {
      "text/plain": [
       "SimpleImputer(strategy='most_frequent')"
      ]
     },
     "execution_count": 155,
     "metadata": {},
     "output_type": "execute_result"
    }
   ],
   "source": [
    "imp_mean.fit(X.iloc[:,string_cols])"
   ]
  },
  {
   "cell_type": "code",
   "execution_count": 156,
   "id": "e29cefbd",
   "metadata": {},
   "outputs": [],
   "source": [
    "X.iloc[:,string_cols] = imp_mean.transform(X.iloc[:,string_cols])"
   ]
  },
  {
   "cell_type": "code",
   "execution_count": 157,
   "id": "f041afde",
   "metadata": {},
   "outputs": [
    {
     "data": {
      "text/plain": [
       "Date             0\n",
       "Location         0\n",
       "MinTemp          0\n",
       "MaxTemp          0\n",
       "Rainfall         0\n",
       "Evaporation      0\n",
       "Sunshine         0\n",
       "WindGustDir      0\n",
       "WindGustSpeed    0\n",
       "WindDir9am       0\n",
       "WindDir3pm       0\n",
       "WindSpeed9am     0\n",
       "WindSpeed3pm     0\n",
       "Humidity9am      0\n",
       "Humidity3pm      0\n",
       "Pressure9am      0\n",
       "Pressure3pm      0\n",
       "Cloud9am         0\n",
       "Cloud3pm         0\n",
       "Temp9am          0\n",
       "Temp3pm          0\n",
       "RainToday        0\n",
       "dtype: int64"
      ]
     },
     "execution_count": 157,
     "metadata": {},
     "output_type": "execute_result"
    }
   ],
   "source": [
    "pd.isnull(X).sum()"
   ]
  },
  {
   "cell_type": "code",
   "execution_count": 158,
   "id": "2fcdbf7e",
   "metadata": {},
   "outputs": [
    {
     "data": {
      "text/html": [
       "<div>\n",
       "<style scoped>\n",
       "    .dataframe tbody tr th:only-of-type {\n",
       "        vertical-align: middle;\n",
       "    }\n",
       "\n",
       "    .dataframe tbody tr th {\n",
       "        vertical-align: top;\n",
       "    }\n",
       "\n",
       "    .dataframe thead th {\n",
       "        text-align: right;\n",
       "    }\n",
       "</style>\n",
       "<table border=\"1\" class=\"dataframe\">\n",
       "  <thead>\n",
       "    <tr style=\"text-align: right;\">\n",
       "      <th></th>\n",
       "      <th>MinTemp</th>\n",
       "      <th>MaxTemp</th>\n",
       "      <th>Rainfall</th>\n",
       "      <th>Evaporation</th>\n",
       "      <th>Sunshine</th>\n",
       "      <th>WindGustSpeed</th>\n",
       "      <th>WindSpeed9am</th>\n",
       "      <th>WindSpeed3pm</th>\n",
       "      <th>Humidity9am</th>\n",
       "      <th>Humidity3pm</th>\n",
       "      <th>Pressure9am</th>\n",
       "      <th>Pressure3pm</th>\n",
       "      <th>Cloud9am</th>\n",
       "      <th>Cloud3pm</th>\n",
       "      <th>Temp9am</th>\n",
       "      <th>Temp3pm</th>\n",
       "    </tr>\n",
       "  </thead>\n",
       "  <tbody>\n",
       "    <tr>\n",
       "      <th>MinTemp</th>\n",
       "      <td>1.000000</td>\n",
       "      <td>0.736555</td>\n",
       "      <td>0.103938</td>\n",
       "      <td>0.466993</td>\n",
       "      <td>0.072586</td>\n",
       "      <td>0.177415</td>\n",
       "      <td>0.175064</td>\n",
       "      <td>0.175173</td>\n",
       "      <td>-0.232899</td>\n",
       "      <td>0.006089</td>\n",
       "      <td>-0.450970</td>\n",
       "      <td>-0.461292</td>\n",
       "      <td>0.078754</td>\n",
       "      <td>0.021605</td>\n",
       "      <td>0.901821</td>\n",
       "      <td>0.708906</td>\n",
       "    </tr>\n",
       "    <tr>\n",
       "      <th>MaxTemp</th>\n",
       "      <td>0.736555</td>\n",
       "      <td>1.000000</td>\n",
       "      <td>-0.074992</td>\n",
       "      <td>0.587932</td>\n",
       "      <td>0.470156</td>\n",
       "      <td>0.067615</td>\n",
       "      <td>0.014450</td>\n",
       "      <td>0.050300</td>\n",
       "      <td>-0.504110</td>\n",
       "      <td>-0.508855</td>\n",
       "      <td>-0.332061</td>\n",
       "      <td>-0.427167</td>\n",
       "      <td>-0.289370</td>\n",
       "      <td>-0.277921</td>\n",
       "      <td>0.887210</td>\n",
       "      <td>0.984503</td>\n",
       "    </tr>\n",
       "    <tr>\n",
       "      <th>Rainfall</th>\n",
       "      <td>0.103938</td>\n",
       "      <td>-0.074992</td>\n",
       "      <td>1.000000</td>\n",
       "      <td>-0.064351</td>\n",
       "      <td>-0.227549</td>\n",
       "      <td>0.133659</td>\n",
       "      <td>0.087338</td>\n",
       "      <td>0.057887</td>\n",
       "      <td>0.224405</td>\n",
       "      <td>0.255755</td>\n",
       "      <td>-0.168154</td>\n",
       "      <td>-0.126534</td>\n",
       "      <td>0.198528</td>\n",
       "      <td>0.172403</td>\n",
       "      <td>0.011192</td>\n",
       "      <td>-0.079657</td>\n",
       "    </tr>\n",
       "    <tr>\n",
       "      <th>Evaporation</th>\n",
       "      <td>0.466993</td>\n",
       "      <td>0.587932</td>\n",
       "      <td>-0.064351</td>\n",
       "      <td>1.000000</td>\n",
       "      <td>0.365602</td>\n",
       "      <td>0.203021</td>\n",
       "      <td>0.193084</td>\n",
       "      <td>0.129400</td>\n",
       "      <td>-0.504092</td>\n",
       "      <td>-0.390243</td>\n",
       "      <td>-0.270362</td>\n",
       "      <td>-0.293581</td>\n",
       "      <td>-0.183793</td>\n",
       "      <td>-0.182618</td>\n",
       "      <td>0.545115</td>\n",
       "      <td>0.572893</td>\n",
       "    </tr>\n",
       "    <tr>\n",
       "      <th>Sunshine</th>\n",
       "      <td>0.072586</td>\n",
       "      <td>0.470156</td>\n",
       "      <td>-0.227549</td>\n",
       "      <td>0.365602</td>\n",
       "      <td>1.000000</td>\n",
       "      <td>-0.034750</td>\n",
       "      <td>0.005499</td>\n",
       "      <td>0.053834</td>\n",
       "      <td>-0.490819</td>\n",
       "      <td>-0.629130</td>\n",
       "      <td>0.041970</td>\n",
       "      <td>-0.019719</td>\n",
       "      <td>-0.675323</td>\n",
       "      <td>-0.703930</td>\n",
       "      <td>0.291188</td>\n",
       "      <td>0.490501</td>\n",
       "    </tr>\n",
       "    <tr>\n",
       "      <th>WindGustSpeed</th>\n",
       "      <td>0.177415</td>\n",
       "      <td>0.067615</td>\n",
       "      <td>0.133659</td>\n",
       "      <td>0.203021</td>\n",
       "      <td>-0.034750</td>\n",
       "      <td>1.000000</td>\n",
       "      <td>0.605303</td>\n",
       "      <td>0.686307</td>\n",
       "      <td>-0.215070</td>\n",
       "      <td>-0.026327</td>\n",
       "      <td>-0.458744</td>\n",
       "      <td>-0.413749</td>\n",
       "      <td>0.071736</td>\n",
       "      <td>0.109168</td>\n",
       "      <td>0.150150</td>\n",
       "      <td>0.032748</td>\n",
       "    </tr>\n",
       "    <tr>\n",
       "      <th>WindSpeed9am</th>\n",
       "      <td>0.175064</td>\n",
       "      <td>0.014450</td>\n",
       "      <td>0.087338</td>\n",
       "      <td>0.193084</td>\n",
       "      <td>0.005499</td>\n",
       "      <td>0.605303</td>\n",
       "      <td>1.000000</td>\n",
       "      <td>0.519547</td>\n",
       "      <td>-0.270858</td>\n",
       "      <td>-0.031614</td>\n",
       "      <td>-0.228743</td>\n",
       "      <td>-0.175817</td>\n",
       "      <td>0.025112</td>\n",
       "      <td>0.054639</td>\n",
       "      <td>0.128545</td>\n",
       "      <td>0.004569</td>\n",
       "    </tr>\n",
       "    <tr>\n",
       "      <th>WindSpeed3pm</th>\n",
       "      <td>0.175173</td>\n",
       "      <td>0.050300</td>\n",
       "      <td>0.057887</td>\n",
       "      <td>0.129400</td>\n",
       "      <td>0.053834</td>\n",
       "      <td>0.686307</td>\n",
       "      <td>0.519547</td>\n",
       "      <td>1.000000</td>\n",
       "      <td>-0.145525</td>\n",
       "      <td>0.016432</td>\n",
       "      <td>-0.296351</td>\n",
       "      <td>-0.255439</td>\n",
       "      <td>0.053337</td>\n",
       "      <td>0.025396</td>\n",
       "      <td>0.163030</td>\n",
       "      <td>0.027778</td>\n",
       "    </tr>\n",
       "    <tr>\n",
       "      <th>Humidity9am</th>\n",
       "      <td>-0.232899</td>\n",
       "      <td>-0.504110</td>\n",
       "      <td>0.224405</td>\n",
       "      <td>-0.504092</td>\n",
       "      <td>-0.490819</td>\n",
       "      <td>-0.215070</td>\n",
       "      <td>-0.270858</td>\n",
       "      <td>-0.145525</td>\n",
       "      <td>1.000000</td>\n",
       "      <td>0.666949</td>\n",
       "      <td>0.139442</td>\n",
       "      <td>0.186858</td>\n",
       "      <td>0.452297</td>\n",
       "      <td>0.357326</td>\n",
       "      <td>-0.471354</td>\n",
       "      <td>-0.498399</td>\n",
       "    </tr>\n",
       "    <tr>\n",
       "      <th>Humidity3pm</th>\n",
       "      <td>0.006089</td>\n",
       "      <td>-0.508855</td>\n",
       "      <td>0.255755</td>\n",
       "      <td>-0.390243</td>\n",
       "      <td>-0.629130</td>\n",
       "      <td>-0.026327</td>\n",
       "      <td>-0.031614</td>\n",
       "      <td>0.016432</td>\n",
       "      <td>0.666949</td>\n",
       "      <td>1.000000</td>\n",
       "      <td>-0.027544</td>\n",
       "      <td>0.051997</td>\n",
       "      <td>0.517120</td>\n",
       "      <td>0.523120</td>\n",
       "      <td>-0.221019</td>\n",
       "      <td>-0.557841</td>\n",
       "    </tr>\n",
       "    <tr>\n",
       "      <th>Pressure9am</th>\n",
       "      <td>-0.450970</td>\n",
       "      <td>-0.332061</td>\n",
       "      <td>-0.168154</td>\n",
       "      <td>-0.270362</td>\n",
       "      <td>0.041970</td>\n",
       "      <td>-0.458744</td>\n",
       "      <td>-0.228743</td>\n",
       "      <td>-0.296351</td>\n",
       "      <td>0.139442</td>\n",
       "      <td>-0.027544</td>\n",
       "      <td>1.000000</td>\n",
       "      <td>0.961326</td>\n",
       "      <td>-0.129796</td>\n",
       "      <td>-0.147861</td>\n",
       "      <td>-0.422556</td>\n",
       "      <td>-0.286770</td>\n",
       "    </tr>\n",
       "    <tr>\n",
       "      <th>Pressure3pm</th>\n",
       "      <td>-0.461292</td>\n",
       "      <td>-0.427167</td>\n",
       "      <td>-0.126534</td>\n",
       "      <td>-0.293581</td>\n",
       "      <td>-0.019719</td>\n",
       "      <td>-0.413749</td>\n",
       "      <td>-0.175817</td>\n",
       "      <td>-0.255439</td>\n",
       "      <td>0.186858</td>\n",
       "      <td>0.051997</td>\n",
       "      <td>0.961326</td>\n",
       "      <td>1.000000</td>\n",
       "      <td>-0.060772</td>\n",
       "      <td>-0.084778</td>\n",
       "      <td>-0.470187</td>\n",
       "      <td>-0.389548</td>\n",
       "    </tr>\n",
       "    <tr>\n",
       "      <th>Cloud9am</th>\n",
       "      <td>0.078754</td>\n",
       "      <td>-0.289370</td>\n",
       "      <td>0.198528</td>\n",
       "      <td>-0.183793</td>\n",
       "      <td>-0.675323</td>\n",
       "      <td>0.071736</td>\n",
       "      <td>0.025112</td>\n",
       "      <td>0.053337</td>\n",
       "      <td>0.452297</td>\n",
       "      <td>0.517120</td>\n",
       "      <td>-0.129796</td>\n",
       "      <td>-0.060772</td>\n",
       "      <td>1.000000</td>\n",
       "      <td>0.603564</td>\n",
       "      <td>-0.136959</td>\n",
       "      <td>-0.302060</td>\n",
       "    </tr>\n",
       "    <tr>\n",
       "      <th>Cloud3pm</th>\n",
       "      <td>0.021605</td>\n",
       "      <td>-0.277921</td>\n",
       "      <td>0.172403</td>\n",
       "      <td>-0.182618</td>\n",
       "      <td>-0.703930</td>\n",
       "      <td>0.109168</td>\n",
       "      <td>0.054639</td>\n",
       "      <td>0.025396</td>\n",
       "      <td>0.357326</td>\n",
       "      <td>0.523120</td>\n",
       "      <td>-0.147861</td>\n",
       "      <td>-0.084778</td>\n",
       "      <td>0.603564</td>\n",
       "      <td>1.000000</td>\n",
       "      <td>-0.126659</td>\n",
       "      <td>-0.317420</td>\n",
       "    </tr>\n",
       "    <tr>\n",
       "      <th>Temp9am</th>\n",
       "      <td>0.901821</td>\n",
       "      <td>0.887210</td>\n",
       "      <td>0.011192</td>\n",
       "      <td>0.545115</td>\n",
       "      <td>0.291188</td>\n",
       "      <td>0.150150</td>\n",
       "      <td>0.128545</td>\n",
       "      <td>0.163030</td>\n",
       "      <td>-0.471354</td>\n",
       "      <td>-0.221019</td>\n",
       "      <td>-0.422556</td>\n",
       "      <td>-0.470187</td>\n",
       "      <td>-0.136959</td>\n",
       "      <td>-0.126659</td>\n",
       "      <td>1.000000</td>\n",
       "      <td>0.860591</td>\n",
       "    </tr>\n",
       "    <tr>\n",
       "      <th>Temp3pm</th>\n",
       "      <td>0.708906</td>\n",
       "      <td>0.984503</td>\n",
       "      <td>-0.079657</td>\n",
       "      <td>0.572893</td>\n",
       "      <td>0.490501</td>\n",
       "      <td>0.032748</td>\n",
       "      <td>0.004569</td>\n",
       "      <td>0.027778</td>\n",
       "      <td>-0.498399</td>\n",
       "      <td>-0.557841</td>\n",
       "      <td>-0.286770</td>\n",
       "      <td>-0.389548</td>\n",
       "      <td>-0.302060</td>\n",
       "      <td>-0.317420</td>\n",
       "      <td>0.860591</td>\n",
       "      <td>1.000000</td>\n",
       "    </tr>\n",
       "  </tbody>\n",
       "</table>\n",
       "</div>"
      ],
      "text/plain": [
       "                MinTemp   MaxTemp  Rainfall  Evaporation  Sunshine  \\\n",
       "MinTemp        1.000000  0.736555  0.103938     0.466993  0.072586   \n",
       "MaxTemp        0.736555  1.000000 -0.074992     0.587932  0.470156   \n",
       "Rainfall       0.103938 -0.074992  1.000000    -0.064351 -0.227549   \n",
       "Evaporation    0.466993  0.587932 -0.064351     1.000000  0.365602   \n",
       "Sunshine       0.072586  0.470156 -0.227549     0.365602  1.000000   \n",
       "WindGustSpeed  0.177415  0.067615  0.133659     0.203021 -0.034750   \n",
       "WindSpeed9am   0.175064  0.014450  0.087338     0.193084  0.005499   \n",
       "WindSpeed3pm   0.175173  0.050300  0.057887     0.129400  0.053834   \n",
       "Humidity9am   -0.232899 -0.504110  0.224405    -0.504092 -0.490819   \n",
       "Humidity3pm    0.006089 -0.508855  0.255755    -0.390243 -0.629130   \n",
       "Pressure9am   -0.450970 -0.332061 -0.168154    -0.270362  0.041970   \n",
       "Pressure3pm   -0.461292 -0.427167 -0.126534    -0.293581 -0.019719   \n",
       "Cloud9am       0.078754 -0.289370  0.198528    -0.183793 -0.675323   \n",
       "Cloud3pm       0.021605 -0.277921  0.172403    -0.182618 -0.703930   \n",
       "Temp9am        0.901821  0.887210  0.011192     0.545115  0.291188   \n",
       "Temp3pm        0.708906  0.984503 -0.079657     0.572893  0.490501   \n",
       "\n",
       "               WindGustSpeed  WindSpeed9am  WindSpeed3pm  Humidity9am  \\\n",
       "MinTemp             0.177415      0.175064      0.175173    -0.232899   \n",
       "MaxTemp             0.067615      0.014450      0.050300    -0.504110   \n",
       "Rainfall            0.133659      0.087338      0.057887     0.224405   \n",
       "Evaporation         0.203021      0.193084      0.129400    -0.504092   \n",
       "Sunshine           -0.034750      0.005499      0.053834    -0.490819   \n",
       "WindGustSpeed       1.000000      0.605303      0.686307    -0.215070   \n",
       "WindSpeed9am        0.605303      1.000000      0.519547    -0.270858   \n",
       "WindSpeed3pm        0.686307      0.519547      1.000000    -0.145525   \n",
       "Humidity9am        -0.215070     -0.270858     -0.145525     1.000000   \n",
       "Humidity3pm        -0.026327     -0.031614      0.016432     0.666949   \n",
       "Pressure9am        -0.458744     -0.228743     -0.296351     0.139442   \n",
       "Pressure3pm        -0.413749     -0.175817     -0.255439     0.186858   \n",
       "Cloud9am            0.071736      0.025112      0.053337     0.452297   \n",
       "Cloud3pm            0.109168      0.054639      0.025396     0.357326   \n",
       "Temp9am             0.150150      0.128545      0.163030    -0.471354   \n",
       "Temp3pm             0.032748      0.004569      0.027778    -0.498399   \n",
       "\n",
       "               Humidity3pm  Pressure9am  Pressure3pm  Cloud9am  Cloud3pm  \\\n",
       "MinTemp           0.006089    -0.450970    -0.461292  0.078754  0.021605   \n",
       "MaxTemp          -0.508855    -0.332061    -0.427167 -0.289370 -0.277921   \n",
       "Rainfall          0.255755    -0.168154    -0.126534  0.198528  0.172403   \n",
       "Evaporation      -0.390243    -0.270362    -0.293581 -0.183793 -0.182618   \n",
       "Sunshine         -0.629130     0.041970    -0.019719 -0.675323 -0.703930   \n",
       "WindGustSpeed    -0.026327    -0.458744    -0.413749  0.071736  0.109168   \n",
       "WindSpeed9am     -0.031614    -0.228743    -0.175817  0.025112  0.054639   \n",
       "WindSpeed3pm      0.016432    -0.296351    -0.255439  0.053337  0.025396   \n",
       "Humidity9am       0.666949     0.139442     0.186858  0.452297  0.357326   \n",
       "Humidity3pm       1.000000    -0.027544     0.051997  0.517120  0.523120   \n",
       "Pressure9am      -0.027544     1.000000     0.961326 -0.129796 -0.147861   \n",
       "Pressure3pm       0.051997     0.961326     1.000000 -0.060772 -0.084778   \n",
       "Cloud9am          0.517120    -0.129796    -0.060772  1.000000  0.603564   \n",
       "Cloud3pm          0.523120    -0.147861    -0.084778  0.603564  1.000000   \n",
       "Temp9am          -0.221019    -0.422556    -0.470187 -0.136959 -0.126659   \n",
       "Temp3pm          -0.557841    -0.286770    -0.389548 -0.302060 -0.317420   \n",
       "\n",
       "                Temp9am   Temp3pm  \n",
       "MinTemp        0.901821  0.708906  \n",
       "MaxTemp        0.887210  0.984503  \n",
       "Rainfall       0.011192 -0.079657  \n",
       "Evaporation    0.545115  0.572893  \n",
       "Sunshine       0.291188  0.490501  \n",
       "WindGustSpeed  0.150150  0.032748  \n",
       "WindSpeed9am   0.128545  0.004569  \n",
       "WindSpeed3pm   0.163030  0.027778  \n",
       "Humidity9am   -0.471354 -0.498399  \n",
       "Humidity3pm   -0.221019 -0.557841  \n",
       "Pressure9am   -0.422556 -0.286770  \n",
       "Pressure3pm   -0.470187 -0.389548  \n",
       "Cloud9am      -0.136959 -0.302060  \n",
       "Cloud3pm      -0.126659 -0.317420  \n",
       "Temp9am        1.000000  0.860591  \n",
       "Temp3pm        0.860591  1.000000  "
      ]
     },
     "execution_count": 158,
     "metadata": {},
     "output_type": "execute_result"
    }
   ],
   "source": [
    "# Checking correlation\n",
    "data.corr()"
   ]
  },
  {
   "cell_type": "code",
   "execution_count": 159,
   "id": "1b0c929e",
   "metadata": {},
   "outputs": [
    {
     "data": {
      "text/plain": [
       "Date              object\n",
       "Location          object\n",
       "MinTemp          float64\n",
       "MaxTemp          float64\n",
       "Rainfall         float64\n",
       "Evaporation      float64\n",
       "Sunshine         float64\n",
       "WindGustDir       object\n",
       "WindGustSpeed    float64\n",
       "WindDir9am        object\n",
       "WindDir3pm        object\n",
       "WindSpeed9am     float64\n",
       "WindSpeed3pm     float64\n",
       "Humidity9am      float64\n",
       "Humidity3pm      float64\n",
       "Pressure9am      float64\n",
       "Pressure3pm      float64\n",
       "Cloud9am         float64\n",
       "Cloud3pm         float64\n",
       "Temp9am          float64\n",
       "Temp3pm          float64\n",
       "RainToday         object\n",
       "RainTomorrow      object\n",
       "dtype: object"
      ]
     },
     "execution_count": 159,
     "metadata": {},
     "output_type": "execute_result"
    }
   ],
   "source": [
    "data.dtypes"
   ]
  },
  {
   "cell_type": "markdown",
   "id": "0a61bb23",
   "metadata": {},
   "source": [
    "# OneHotEncoder Method"
   ]
  },
  {
   "cell_type": "code",
   "execution_count": 160,
   "id": "9bf9ee6f",
   "metadata": {},
   "outputs": [],
   "source": [
    "def OneHotEncoderMethod(indices,data):\n",
    "    from sklearn.preprocessing import OneHotEncoder\n",
    "    from sklearn.compose import ColumnTransformer\n",
    "    ColumnTransformer = ColumnTransformer([('encoder', OneHotEncoder(),indices)],remainder = 'passthrough')\n",
    "    return ColumnTransformer.fit_transform(data)"
   ]
  },
  {
   "cell_type": "markdown",
   "id": "69b446f8",
   "metadata": {},
   "source": [
    "# Label Encoding Method"
   ]
  },
  {
   "cell_type": "code",
   "execution_count": 161,
   "id": "75f1fa82",
   "metadata": {},
   "outputs": [],
   "source": [
    "def LabelEncodingMethod(series):\n",
    "    from sklearn import preprocessing\n",
    "    le = preprocessing.LabelEncoder()\n",
    "    return le.fit_transform(series)"
   ]
  },
  {
   "cell_type": "markdown",
   "id": "8aad9696",
   "metadata": {},
   "source": [
    "## Label encoding target feature"
   ]
  },
  {
   "cell_type": "code",
   "execution_count": 162,
   "id": "c6d30be1",
   "metadata": {},
   "outputs": [
    {
     "name": "stdout",
     "output_type": "stream",
     "text": [
      "2\n",
      "0    No\n",
      "1    No\n",
      "Name: RainTomorrow, dtype: object\n"
     ]
    }
   ],
   "source": [
    "print(len(y.unique()))\n",
    "print(y.head(2))"
   ]
  },
  {
   "cell_type": "code",
   "execution_count": 163,
   "id": "3aa1b93b",
   "metadata": {},
   "outputs": [],
   "source": [
    "y = LabelEncodingMethod(y)"
   ]
  },
  {
   "cell_type": "code",
   "execution_count": 164,
   "id": "7b1ca668",
   "metadata": {},
   "outputs": [
    {
     "name": "stdout",
     "output_type": "stream",
     "text": [
      "(145460,)\n"
     ]
    },
    {
     "data": {
      "text/plain": [
       "array([0, 0, 0, ..., 0, 0, 1])"
      ]
     },
     "execution_count": 164,
     "metadata": {},
     "output_type": "execute_result"
    }
   ],
   "source": [
    "print(y.shape)\n",
    "y"
   ]
  },
  {
   "cell_type": "markdown",
   "id": "22d701a9",
   "metadata": {},
   "source": [
    "# Encoding Selection"
   ]
  },
  {
   "cell_type": "code",
   "execution_count": 165,
   "id": "b4175c9f",
   "metadata": {},
   "outputs": [
    {
     "data": {
      "text/plain": [
       "[0, 1, 7, 9, 10, 21]"
      ]
     },
     "execution_count": 165,
     "metadata": {},
     "output_type": "execute_result"
    }
   ],
   "source": [
    "string_cols = list((np.where(X.dtypes ==object))[0])\n",
    "string_cols  "
   ]
  },
  {
   "cell_type": "code",
   "execution_count": 166,
   "id": "d97dd2f6",
   "metadata": {},
   "outputs": [
    {
     "data": {
      "text/plain": [
       "3436"
      ]
     },
     "execution_count": 166,
     "metadata": {},
     "output_type": "execute_result"
    }
   ],
   "source": [
    "len(pd.unique(X[X.columns[0]]))"
   ]
  },
  {
   "cell_type": "code",
   "execution_count": 167,
   "id": "4784ca5a",
   "metadata": {},
   "outputs": [],
   "source": [
    "# X = OneHotEncoderMethod(string_cols, X)"
   ]
  },
  {
   "cell_type": "code",
   "execution_count": 168,
   "id": "953e0196",
   "metadata": {},
   "outputs": [],
   "source": [
    "# X.head()"
   ]
  },
  {
   "cell_type": "code",
   "execution_count": 169,
   "id": "dafa83b2",
   "metadata": {},
   "outputs": [],
   "source": [
    "cols_0 = X.columns[0]"
   ]
  },
  {
   "cell_type": "code",
   "execution_count": 170,
   "id": "368360e1",
   "metadata": {},
   "outputs": [
    {
     "data": {
      "text/plain": [
       "'Date'"
      ]
     },
     "execution_count": 170,
     "metadata": {},
     "output_type": "execute_result"
    }
   ],
   "source": [
    "cols_0"
   ]
  },
  {
   "cell_type": "code",
   "execution_count": 171,
   "id": "103cad76",
   "metadata": {},
   "outputs": [],
   "source": [
    "# X[cols_0] = LabelEncodingMethod(X[cols_0])"
   ]
  },
  {
   "cell_type": "code",
   "execution_count": 172,
   "id": "d93450f9",
   "metadata": {},
   "outputs": [],
   "source": [
    "# X.head()"
   ]
  },
  {
   "cell_type": "code",
   "execution_count": null,
   "id": "f7efda07",
   "metadata": {},
   "outputs": [],
   "source": []
  },
  {
   "cell_type": "code",
   "execution_count": 173,
   "id": "9ba5e9b8",
   "metadata": {},
   "outputs": [],
   "source": [
    "def EncodingSelection(X,threshold =10):\n",
    "    #Step 1: selecting the columns\n",
    "    string_cols = list((np.where(X.dtypes ==object))[0])\n",
    "    one_hot_encoding_indices = []\n",
    "    \n",
    "    #Step 2: if the no. of category is 2 and more than threshold, then label encode\n",
    "    for col in string_cols:\n",
    "        length = len(pd.unique(X[X.columns[col]]))\n",
    "        if length == 2 or length > threshold:\n",
    "            X[X.columns[col]] = LabelEncodingMethod(X[X.columns[col]])\n",
    "        else:\n",
    "            one_hot_encoding_indices.append(col)\n",
    "    #Step 3: OneHotEncoding\n",
    "    X = OneHotEncoderMethod(one_hot_encoding_indices,X)\n",
    "    return X"
   ]
  },
  {
   "cell_type": "code",
   "execution_count": 174,
   "id": "564e4271",
   "metadata": {},
   "outputs": [
    {
     "data": {
      "text/plain": [
       "[0, 1, 7, 9, 10, 21]"
      ]
     },
     "execution_count": 174,
     "metadata": {},
     "output_type": "execute_result"
    }
   ],
   "source": [
    "string_cols"
   ]
  },
  {
   "cell_type": "code",
   "execution_count": 175,
   "id": "83b0e8bc",
   "metadata": {},
   "outputs": [
    {
     "data": {
      "text/plain": [
       "3436"
      ]
     },
     "execution_count": 175,
     "metadata": {},
     "output_type": "execute_result"
    }
   ],
   "source": [
    "len(pd.unique(X[X.columns[0]]))"
   ]
  },
  {
   "cell_type": "code",
   "execution_count": 176,
   "id": "5069ab54",
   "metadata": {},
   "outputs": [
    {
     "data": {
      "text/plain": [
       "49"
      ]
     },
     "execution_count": 176,
     "metadata": {},
     "output_type": "execute_result"
    }
   ],
   "source": [
    "len(pd.unique(X[X.columns[1]]))"
   ]
  },
  {
   "cell_type": "code",
   "execution_count": 177,
   "id": "704a8d69",
   "metadata": {},
   "outputs": [],
   "source": [
    "X = EncodingSelection(X)"
   ]
  },
  {
   "cell_type": "code",
   "execution_count": 178,
   "id": "93b4f792",
   "metadata": {},
   "outputs": [
    {
     "data": {
      "text/plain": [
       "(145460, 22)"
      ]
     },
     "execution_count": 178,
     "metadata": {},
     "output_type": "execute_result"
    }
   ],
   "source": [
    "X.shape"
   ]
  },
  {
   "cell_type": "code",
   "execution_count": 179,
   "id": "0383105e",
   "metadata": {},
   "outputs": [
    {
     "data": {
      "text/plain": [
       "<AxesSubplot:>"
      ]
     },
     "execution_count": 179,
     "metadata": {},
     "output_type": "execute_result"
    },
    {
     "data": {
      "image/png": "[encoded data removed]",
      "text/plain": [
       "<Figure size 432x288 with 2 Axes>"
      ]
     },
     "metadata": {
      "needs_background": "light"
     },
     "output_type": "display_data"
    }
   ],
   "source": [
    "sns.heatmap(data.corr())"
   ]
  },
  {
   "cell_type": "markdown",
   "id": "15464173",
   "metadata": {},
   "source": [
    "# Feature Selection"
   ]
  },
  {
   "cell_type": "code",
   "execution_count": 180,
   "id": "e1f1155f",
   "metadata": {},
   "outputs": [],
   "source": [
    "from sklearn.feature_selection import SelectKBest, chi2"
   ]
  },
  {
   "cell_type": "code",
   "execution_count": 181,
   "id": "1bbcf005",
   "metadata": {},
   "outputs": [],
   "source": [
    "kbest = SelectKBest(score_func = chi2 , k = 10)"
   ]
  },
  {
   "cell_type": "code",
   "execution_count": 182,
   "id": "08ecce2c",
   "metadata": {},
   "outputs": [],
   "source": [
    "# To remove negative values we do MinMaxScaler feature scaling"
   ]
  },
  {
   "cell_type": "code",
   "execution_count": 183,
   "id": "6f7ee41e",
   "metadata": {},
   "outputs": [],
   "source": [
    "from sklearn import preprocessing\n",
    "MMS = preprocessing.MinMaxScaler()"
   ]
  },
  {
   "cell_type": "code",
   "execution_count": 184,
   "id": "c0d8092f",
   "metadata": {},
   "outputs": [],
   "source": [
    "x_temp = MMS.fit_transform(X)"
   ]
  },
  {
   "cell_type": "code",
   "execution_count": 185,
   "id": "ae764563",
   "metadata": {},
   "outputs": [],
   "source": [
    "x_temp = kbest.fit(x_temp,y)"
   ]
  },
  {
   "cell_type": "code",
   "execution_count": 186,
   "id": "c1d54759",
   "metadata": {},
   "outputs": [
    {
     "data": {
      "text/plain": [
       "array([5.53592272e-01, 2.62652284e-01, 4.53531570e+01, 1.15859992e+02,\n",
       "       6.11887959e+02, 1.35548180e+01, 9.84913277e+02, 1.07864803e+02,\n",
       "       2.79274919e+02, 3.21530177e+01, 2.80820766e+01, 5.56950536e+01,\n",
       "       5.24986468e+01, 4.59639631e+02, 2.13382870e+03, 1.47533629e+02,\n",
       "       1.14483749e+02, 1.14726932e+03, 1.34238912e+03, 2.93206049e+00,\n",
       "       1.61502894e+02, 9.17357045e+03])"
      ]
     },
     "execution_count": 186,
     "metadata": {},
     "output_type": "execute_result"
    }
   ],
   "source": [
    "x_temp.scores_"
   ]
  },
  {
   "cell_type": "code",
   "execution_count": 187,
   "id": "d30da67f",
   "metadata": {},
   "outputs": [
    {
     "name": "stdout",
     "output_type": "stream",
     "text": [
      "0.2626522842\n",
      "0.5535922719\n",
      "2.9320604930\n",
      "13.5548180342\n",
      "28.0820766103\n",
      "32.1530176873\n",
      "45.3531570313\n",
      "52.4986467818\n",
      "55.6950536337\n",
      "107.8648029295\n",
      "114.4837487410\n",
      "115.8599915938\n",
      "147.5336287930\n",
      "161.5028938629\n",
      "279.2749190555\n",
      "459.6396308554\n",
      "611.8879589902\n",
      "984.9132774372\n",
      "1147.2693154468\n",
      "1342.3891164374\n",
      "2133.8286978853\n",
      "9173.5704489390\n"
     ]
    }
   ],
   "source": [
    "for i in np.sort(x_temp.scores_):\n",
    "    print('{0:.10f}'.format(i))"
   ]
  },
  {
   "cell_type": "code",
   "execution_count": 188,
   "id": "d0fed668",
   "metadata": {},
   "outputs": [
    {
     "data": {
      "text/plain": [
       "array([ 1,  0, 19,  5, 10,  9,  2, 12, 11,  7, 16,  3, 15, 20,  8, 13,  4,\n",
       "        6, 17, 18, 14, 21], dtype=int64)"
      ]
     },
     "execution_count": 188,
     "metadata": {},
     "output_type": "execute_result"
    }
   ],
   "source": [
    "np.argsort(x_temp.scores_)"
   ]
  },
  {
   "cell_type": "code",
   "execution_count": 189,
   "id": "59d2dc5d",
   "metadata": {},
   "outputs": [],
   "source": [
    "k_features = 2\n",
    "features_to_delete = np.argsort(x_temp.scores_)[:-k_features]"
   ]
  },
  {
   "cell_type": "code",
   "execution_count": 190,
   "id": "1090b7cf",
   "metadata": {},
   "outputs": [
    {
     "data": {
      "text/plain": [
       "array([ 1,  0, 19,  5, 10,  9,  2, 12, 11,  7, 16,  3, 15, 20,  8, 13,  4,\n",
       "        6, 17, 18], dtype=int64)"
      ]
     },
     "execution_count": 190,
     "metadata": {},
     "output_type": "execute_result"
    }
   ],
   "source": [
    "features_to_delete"
   ]
  },
  {
   "cell_type": "code",
   "execution_count": 191,
   "id": "785d99fe",
   "metadata": {},
   "outputs": [],
   "source": [
    "# Delete columns which are not useful\n",
    "X = np.delete(X, features_to_delete, axis =1)"
   ]
  },
  {
   "cell_type": "code",
   "execution_count": 141,
   "id": "1403c853",
   "metadata": {},
   "outputs": [
    {
     "ename": "NameError",
     "evalue": "name 'x_temp' is not defined",
     "output_type": "error",
     "traceback": [
      "\u001b[1;31m---------------------------------------------------------------------------\u001b[0m",
      "\u001b[1;31mNameError\u001b[0m                                 Traceback (most recent call last)",
      "\u001b[1;32m~\\AppData\\Local\\Temp/ipykernel_21312/129628701.py\u001b[0m in \u001b[0;36m<module>\u001b[1;34m\u001b[0m\n\u001b[1;32m----> 1\u001b[1;33m \u001b[1;32mdel\u001b[0m \u001b[0mx_temp\u001b[0m\u001b[1;33m\u001b[0m\u001b[1;33m\u001b[0m\u001b[0m\n\u001b[0m",
      "\u001b[1;31mNameError\u001b[0m: name 'x_temp' is not defined"
     ]
    }
   ],
   "source": [
    "del x_temp"
   ]
  },
  {
   "cell_type": "markdown",
   "id": "02ab290e",
   "metadata": {},
   "source": [
    "# Train test split"
   ]
  },
  {
   "cell_type": "code",
   "execution_count": 57,
   "id": "75226ae8",
   "metadata": {},
   "outputs": [],
   "source": [
    "import numpy as np\n",
    "from sklearn.model_selection import train_test_split"
   ]
  },
  {
   "cell_type": "code",
   "execution_count": 58,
   "id": "6f104f35",
   "metadata": {},
   "outputs": [],
   "source": [
    "X_train, X_test, y_train, y_test = train_test_split(X,y , test_size =0.2, random_state =1)"
   ]
  },
  {
   "cell_type": "code",
   "execution_count": 59,
   "id": "2c273b51",
   "metadata": {},
   "outputs": [
    {
     "name": "stdout",
     "output_type": "stream",
     "text": [
      "(116368, 2)\n"
     ]
    }
   ],
   "source": [
    "print(X_train.shape)"
   ]
  },
  {
   "cell_type": "markdown",
   "id": "0027131f",
   "metadata": {},
   "source": [
    "# Feature Scaling"
   ]
  },
  {
   "cell_type": "code",
   "execution_count": 60,
   "id": "bdef2d84",
   "metadata": {},
   "outputs": [],
   "source": [
    "from sklearn import preprocessing"
   ]
  },
  {
   "cell_type": "code",
   "execution_count": 61,
   "id": "d04b5696",
   "metadata": {},
   "outputs": [],
   "source": [
    "sc = preprocessing.StandardScaler(with_mean=False)"
   ]
  },
  {
   "cell_type": "code",
   "execution_count": 62,
   "id": "2d848212",
   "metadata": {},
   "outputs": [
    {
     "data": {
      "text/plain": [
       "StandardScaler(with_mean=False)"
      ]
     },
     "execution_count": 62,
     "metadata": {},
     "output_type": "execute_result"
    }
   ],
   "source": [
    "sc.fit(X_train)"
   ]
  },
  {
   "cell_type": "code",
   "execution_count": 63,
   "id": "097e314e",
   "metadata": {},
   "outputs": [],
   "source": [
    "X_train = sc.transform(X_train)"
   ]
  },
  {
   "cell_type": "code",
   "execution_count": 64,
   "id": "90ec721c",
   "metadata": {},
   "outputs": [
    {
     "name": "stdout",
     "output_type": "stream",
     "text": [
      "(116368, 2)\n"
     ]
    }
   ],
   "source": [
    "print(X_train.shape)"
   ]
  },
  {
   "cell_type": "code",
   "execution_count": 65,
   "id": "9d60db6b",
   "metadata": {},
   "outputs": [],
   "source": [
    "X_test = sc.transform(X_test)"
   ]
  },
  {
   "cell_type": "code",
   "execution_count": 66,
   "id": "6bd466c8",
   "metadata": {},
   "outputs": [
    {
     "name": "stdout",
     "output_type": "stream",
     "text": [
      "(29092, 2)\n"
     ]
    }
   ],
   "source": [
    "print(X_test.shape)"
   ]
  },
  {
   "cell_type": "markdown",
   "id": "8b92b418",
   "metadata": {},
   "source": [
    "####  Data is ready !!!"
   ]
  },
  {
   "cell_type": "code",
   "execution_count": 67,
   "id": "33e4171e",
   "metadata": {},
   "outputs": [],
   "source": [
    "from sklearn.metrics import accuracy_score"
   ]
  },
  {
   "cell_type": "markdown",
   "id": "0adb5bdf",
   "metadata": {},
   "source": [
    "# Building KNN model"
   ]
  },
  {
   "cell_type": "code",
   "execution_count": 68,
   "id": "20d5f549",
   "metadata": {},
   "outputs": [],
   "source": [
    "from sklearn.neighbors import KNeighborsClassifier"
   ]
  },
  {
   "cell_type": "code",
   "execution_count": 69,
   "id": "a67807f0",
   "metadata": {},
   "outputs": [],
   "source": [
    "KNNClassifier = KNeighborsClassifier(n_neighbors=3)"
   ]
  },
  {
   "cell_type": "code",
   "execution_count": 70,
   "id": "ed903f8d",
   "metadata": {},
   "outputs": [
    {
     "data": {
      "text/plain": [
       "KNeighborsClassifier(n_neighbors=3)"
      ]
     },
     "execution_count": 70,
     "metadata": {},
     "output_type": "execute_result"
    }
   ],
   "source": [
    "KNNClassifier.fit(X_train,y_train)"
   ]
  },
  {
   "cell_type": "code",
   "execution_count": 71,
   "id": "51bd39df",
   "metadata": {},
   "outputs": [],
   "source": [
    "y_pred = KNNClassifier.predict(X_test)"
   ]
  },
  {
   "cell_type": "code",
   "execution_count": 72,
   "id": "3c8ab0a7",
   "metadata": {},
   "outputs": [
    {
     "data": {
      "text/plain": [
       "0.7681836931115084"
      ]
     },
     "execution_count": 72,
     "metadata": {},
     "output_type": "execute_result"
    }
   ],
   "source": [
    "accuracy_score(y_test, y_pred)"
   ]
  },
  {
   "cell_type": "code",
   "execution_count": 73,
   "id": "55c11361",
   "metadata": {},
   "outputs": [
    {
     "data": {
      "text/plain": [
       "76.81836931115083"
      ]
     },
     "execution_count": 73,
     "metadata": {},
     "output_type": "execute_result"
    }
   ],
   "source": [
    "accuracy_score(y_test, y_pred)*100"
   ]
  },
  {
   "cell_type": "code",
   "execution_count": 74,
   "id": "e56af812",
   "metadata": {},
   "outputs": [
    {
     "name": "stdout",
     "output_type": "stream",
     "text": [
      "<class 'numpy.ndarray'>\n"
     ]
    },
    {
     "data": {
      "text/plain": [
       "(29092,)"
      ]
     },
     "execution_count": 74,
     "metadata": {},
     "output_type": "execute_result"
    }
   ],
   "source": [
    "print(type(y_pred))\n",
    "y_pred.shape"
   ]
  },
  {
   "cell_type": "code",
   "execution_count": 75,
   "id": "7e53443f",
   "metadata": {},
   "outputs": [
    {
     "data": {
      "text/plain": [
       "(29092, 2)"
      ]
     },
     "execution_count": 75,
     "metadata": {},
     "output_type": "execute_result"
    }
   ],
   "source": [
    "X_test.shape"
   ]
  },
  {
   "cell_type": "code",
   "execution_count": 76,
   "id": "ed1a5561",
   "metadata": {},
   "outputs": [
    {
     "data": {
      "text/plain": [
       "array([22.,  0.])"
      ]
     },
     "execution_count": 76,
     "metadata": {},
     "output_type": "execute_result"
    }
   ],
   "source": [
    "X[0]"
   ]
  },
  {
   "cell_type": "code",
   "execution_count": 77,
   "id": "6f350f8f",
   "metadata": {},
   "outputs": [
    {
     "data": {
      "text/plain": [
       "array([0])"
      ]
     },
     "execution_count": 77,
     "metadata": {},
     "output_type": "execute_result"
    }
   ],
   "source": [
    "# predicting single row\n",
    "KNNClassifier.predict([X_test[1222]])"
   ]
  },
  {
   "cell_type": "code",
   "execution_count": 78,
   "id": "a51f1808",
   "metadata": {},
   "outputs": [
    {
     "data": {
      "text/plain": [
       "array([[    0, 23277],\n",
       "       [    1,  5815]], dtype=int64)"
      ]
     },
     "execution_count": 78,
     "metadata": {},
     "output_type": "execute_result"
    }
   ],
   "source": [
    "# counting Unique values of nd array\n",
    "unique, frequency = np.unique(y_pred, return_counts = True) \n",
    "count = np.asarray((unique,frequency )).T\n",
    "count"
   ]
  },
  {
   "cell_type": "code",
   "execution_count": 79,
   "id": "3ae4bc2b",
   "metadata": {},
   "outputs": [
    {
     "data": {
      "text/plain": [
       "(2,)"
      ]
     },
     "execution_count": 79,
     "metadata": {},
     "output_type": "execute_result"
    }
   ],
   "source": [
    "X_test[0].shape"
   ]
  },
  {
   "cell_type": "code",
   "execution_count": 80,
   "id": "c0aa3e7c",
   "metadata": {},
   "outputs": [
    {
     "name": "stdout",
     "output_type": "stream",
     "text": [
      "[0]\n"
     ]
    }
   ],
   "source": [
    "print(KNNClassifier.predict([X_test[0]]))"
   ]
  },
  {
   "cell_type": "code",
   "execution_count": 81,
   "id": "5a76753c",
   "metadata": {},
   "outputs": [
    {
     "name": "stdout",
     "output_type": "stream",
     "text": [
      "[[1. 0.]]\n"
     ]
    }
   ],
   "source": [
    "print(KNNClassifier.predict_proba([X_test[111]]))"
   ]
  },
  {
   "cell_type": "markdown",
   "id": "63b8e0bb",
   "metadata": {},
   "source": [
    "# Plotting"
   ]
  },
  {
   "cell_type": "code",
   "execution_count": 82,
   "id": "d24855e6",
   "metadata": {},
   "outputs": [],
   "source": [
    "from mlxtend.plotting import plot_decision_regions\n",
    "import matplotlib.pyplot as plt"
   ]
  },
  {
   "cell_type": "code",
   "execution_count": 83,
   "id": "be6fff14",
   "metadata": {},
   "outputs": [],
   "source": [
    "# pip install mlxtend"
   ]
  },
  {
   "cell_type": "code",
   "execution_count": 84,
   "id": "1786e678",
   "metadata": {},
   "outputs": [
    {
     "data": {
      "text/plain": [
       "'\\nIf the features are more than two, it cannot plot .So definitely we know that this particular plotting can be a \\ndone till Three dimension, more than three dimensional plotting cannot be done.\\n\\nAnd when it comes to decision region, plotting can be only done till Two features.\\n\\nAnd here, when it comes to our current model, there are 13 features. And definitely this is would be more than two. \\nAnd we need to restrict the number of features.\\n'"
      ]
     },
     "execution_count": 84,
     "metadata": {},
     "output_type": "execute_result"
    }
   ],
   "source": [
    "'''\n",
    "If the features are more than two, it cannot plot .So definitely we know that this particular plotting can be a \n",
    "done till Three dimension, more than three dimensional plotting cannot be done.\n",
    "\n",
    "And when it comes to decision region, plotting can be only done till Two features.\n",
    "\n",
    "And here, when it comes to our current model, there are 13 features. And definitely this is would be more than two. \n",
    "And we need to restrict the number of features.\n",
    "'''"
   ]
  },
  {
   "cell_type": "code",
   "execution_count": 85,
   "id": "1905a320",
   "metadata": {},
   "outputs": [
    {
     "data": {
      "image/png": "[encoded data removed]",
      "text/plain": [
       "<Figure size 432x288 with 1 Axes>"
      ]
     },
     "metadata": {
      "needs_background": "light"
     },
     "output_type": "display_data"
    }
   ],
   "source": [
    "# Plotting decision regions\n",
    "plot_decision_regions(X, y, clf=KNNClassifier, legend=2)\n",
    "\n",
    "# # Adding axes annotations\n",
    "plt.xlabel('X')\n",
    "plt.ylabel('Y')\n",
    "plt.show()"
   ]
  },
  {
   "cell_type": "code",
   "execution_count": null,
   "id": "8b0a27bc",
   "metadata": {},
   "outputs": [],
   "source": []
  },
  {
   "cell_type": "code",
   "execution_count": null,
   "id": "f8f0a9cc",
   "metadata": {},
   "outputs": [],
   "source": []
  },
  {
   "cell_type": "code",
   "execution_count": null,
   "id": "50de0597",
   "metadata": {},
   "outputs": [],
   "source": []
  }
 ],
 "metadata": {
  "kernelspec": {
   "display_name": "Python 3 (ipykernel)",
   "language": "python",
   "name": "python3"
  },
  "language_info": {
   "codemirror_mode": {
    "name": "ipython",
    "version": 3
   },
   "file_extension": ".py",
   "mimetype": "text/x-python",
   "name": "python",
   "nbconvert_exporter": "python",
   "pygments_lexer": "ipython3",
   "version": "3.9.7"
  }
 },
 "nbformat": 4,
 "nbformat_minor": 5
}
