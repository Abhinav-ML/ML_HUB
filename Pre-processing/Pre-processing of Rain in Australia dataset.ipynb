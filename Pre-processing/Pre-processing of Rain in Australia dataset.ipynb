{
 "cells": [
  {
   "cell_type": "markdown",
   "id": "7da4c0f7",
   "metadata": {},
   "source": [
    "# Importing Data\n",
    "https://www.kaggle.com/datasets/jsphyg/weather-dataset-rattle-package"
   ]
  },
  {
   "cell_type": "code",
   "execution_count": 1,
   "id": "4a8735c0",
   "metadata": {},
   "outputs": [],
   "source": [
    "import pandas as pd"
   ]
  },
  {
   "cell_type": "code",
   "execution_count": 2,
   "id": "6083a7e4",
   "metadata": {},
   "outputs": [],
   "source": [
    "data = pd.read_csv('weatherAUS.csv')"
   ]
  },
  {
   "cell_type": "code",
   "execution_count": 3,
   "id": "62f5c9ab",
   "metadata": {},
   "outputs": [
    {
     "data": {
      "text/html": [
       "<div>\n",
       "<style scoped>\n",
       "    .dataframe tbody tr th:only-of-type {\n",
       "        vertical-align: middle;\n",
       "    }\n",
       "\n",
       "    .dataframe tbody tr th {\n",
       "        vertical-align: top;\n",
       "    }\n",
       "\n",
       "    .dataframe thead th {\n",
       "        text-align: right;\n",
       "    }\n",
       "</style>\n",
       "<table border=\"1\" class=\"dataframe\">\n",
       "  <thead>\n",
       "    <tr style=\"text-align: right;\">\n",
       "      <th></th>\n",
       "      <th>Date</th>\n",
       "      <th>Location</th>\n",
       "      <th>MinTemp</th>\n",
       "      <th>MaxTemp</th>\n",
       "      <th>Rainfall</th>\n",
       "      <th>Evaporation</th>\n",
       "      <th>Sunshine</th>\n",
       "      <th>WindGustDir</th>\n",
       "      <th>WindGustSpeed</th>\n",
       "      <th>WindDir9am</th>\n",
       "      <th>...</th>\n",
       "      <th>Humidity9am</th>\n",
       "      <th>Humidity3pm</th>\n",
       "      <th>Pressure9am</th>\n",
       "      <th>Pressure3pm</th>\n",
       "      <th>Cloud9am</th>\n",
       "      <th>Cloud3pm</th>\n",
       "      <th>Temp9am</th>\n",
       "      <th>Temp3pm</th>\n",
       "      <th>RainToday</th>\n",
       "      <th>RainTomorrow</th>\n",
       "    </tr>\n",
       "  </thead>\n",
       "  <tbody>\n",
       "    <tr>\n",
       "      <th>0</th>\n",
       "      <td>01-12-2008</td>\n",
       "      <td>Albury</td>\n",
       "      <td>13.4</td>\n",
       "      <td>22.9</td>\n",
       "      <td>0.6</td>\n",
       "      <td>NaN</td>\n",
       "      <td>NaN</td>\n",
       "      <td>W</td>\n",
       "      <td>44.0</td>\n",
       "      <td>W</td>\n",
       "      <td>...</td>\n",
       "      <td>71.0</td>\n",
       "      <td>22.0</td>\n",
       "      <td>1007.7</td>\n",
       "      <td>1007.1</td>\n",
       "      <td>8.0</td>\n",
       "      <td>NaN</td>\n",
       "      <td>16.9</td>\n",
       "      <td>21.8</td>\n",
       "      <td>No</td>\n",
       "      <td>No</td>\n",
       "    </tr>\n",
       "    <tr>\n",
       "      <th>1</th>\n",
       "      <td>02-12-2008</td>\n",
       "      <td>Albury</td>\n",
       "      <td>7.4</td>\n",
       "      <td>25.1</td>\n",
       "      <td>0.0</td>\n",
       "      <td>NaN</td>\n",
       "      <td>NaN</td>\n",
       "      <td>WNW</td>\n",
       "      <td>44.0</td>\n",
       "      <td>NNW</td>\n",
       "      <td>...</td>\n",
       "      <td>44.0</td>\n",
       "      <td>25.0</td>\n",
       "      <td>1010.6</td>\n",
       "      <td>1007.8</td>\n",
       "      <td>NaN</td>\n",
       "      <td>NaN</td>\n",
       "      <td>17.2</td>\n",
       "      <td>24.3</td>\n",
       "      <td>No</td>\n",
       "      <td>No</td>\n",
       "    </tr>\n",
       "    <tr>\n",
       "      <th>2</th>\n",
       "      <td>03-12-2008</td>\n",
       "      <td>Albury</td>\n",
       "      <td>12.9</td>\n",
       "      <td>25.7</td>\n",
       "      <td>0.0</td>\n",
       "      <td>NaN</td>\n",
       "      <td>NaN</td>\n",
       "      <td>WSW</td>\n",
       "      <td>46.0</td>\n",
       "      <td>W</td>\n",
       "      <td>...</td>\n",
       "      <td>38.0</td>\n",
       "      <td>30.0</td>\n",
       "      <td>1007.6</td>\n",
       "      <td>1008.7</td>\n",
       "      <td>NaN</td>\n",
       "      <td>2.0</td>\n",
       "      <td>21.0</td>\n",
       "      <td>23.2</td>\n",
       "      <td>No</td>\n",
       "      <td>No</td>\n",
       "    </tr>\n",
       "    <tr>\n",
       "      <th>3</th>\n",
       "      <td>04-12-2008</td>\n",
       "      <td>Albury</td>\n",
       "      <td>9.2</td>\n",
       "      <td>28.0</td>\n",
       "      <td>0.0</td>\n",
       "      <td>NaN</td>\n",
       "      <td>NaN</td>\n",
       "      <td>NE</td>\n",
       "      <td>24.0</td>\n",
       "      <td>SE</td>\n",
       "      <td>...</td>\n",
       "      <td>45.0</td>\n",
       "      <td>16.0</td>\n",
       "      <td>1017.6</td>\n",
       "      <td>1012.8</td>\n",
       "      <td>NaN</td>\n",
       "      <td>NaN</td>\n",
       "      <td>18.1</td>\n",
       "      <td>26.5</td>\n",
       "      <td>No</td>\n",
       "      <td>No</td>\n",
       "    </tr>\n",
       "    <tr>\n",
       "      <th>4</th>\n",
       "      <td>05-12-2008</td>\n",
       "      <td>Albury</td>\n",
       "      <td>17.5</td>\n",
       "      <td>32.3</td>\n",
       "      <td>1.0</td>\n",
       "      <td>NaN</td>\n",
       "      <td>NaN</td>\n",
       "      <td>W</td>\n",
       "      <td>41.0</td>\n",
       "      <td>ENE</td>\n",
       "      <td>...</td>\n",
       "      <td>82.0</td>\n",
       "      <td>33.0</td>\n",
       "      <td>1010.8</td>\n",
       "      <td>1006.0</td>\n",
       "      <td>7.0</td>\n",
       "      <td>8.0</td>\n",
       "      <td>17.8</td>\n",
       "      <td>29.7</td>\n",
       "      <td>No</td>\n",
       "      <td>No</td>\n",
       "    </tr>\n",
       "  </tbody>\n",
       "</table>\n",
       "<p>5 rows × 23 columns</p>\n",
       "</div>"
      ],
      "text/plain": [
       "         Date Location  MinTemp  MaxTemp  Rainfall  Evaporation  Sunshine  \\\n",
       "0  01-12-2008   Albury     13.4     22.9       0.6          NaN       NaN   \n",
       "1  02-12-2008   Albury      7.4     25.1       0.0          NaN       NaN   \n",
       "2  03-12-2008   Albury     12.9     25.7       0.0          NaN       NaN   \n",
       "3  04-12-2008   Albury      9.2     28.0       0.0          NaN       NaN   \n",
       "4  05-12-2008   Albury     17.5     32.3       1.0          NaN       NaN   \n",
       "\n",
       "  WindGustDir  WindGustSpeed WindDir9am  ... Humidity9am  Humidity3pm  \\\n",
       "0           W           44.0          W  ...        71.0         22.0   \n",
       "1         WNW           44.0        NNW  ...        44.0         25.0   \n",
       "2         WSW           46.0          W  ...        38.0         30.0   \n",
       "3          NE           24.0         SE  ...        45.0         16.0   \n",
       "4           W           41.0        ENE  ...        82.0         33.0   \n",
       "\n",
       "   Pressure9am  Pressure3pm  Cloud9am  Cloud3pm  Temp9am  Temp3pm  RainToday  \\\n",
       "0       1007.7       1007.1       8.0       NaN     16.9     21.8         No   \n",
       "1       1010.6       1007.8       NaN       NaN     17.2     24.3         No   \n",
       "2       1007.6       1008.7       NaN       2.0     21.0     23.2         No   \n",
       "3       1017.6       1012.8       NaN       NaN     18.1     26.5         No   \n",
       "4       1010.8       1006.0       7.0       8.0     17.8     29.7         No   \n",
       "\n",
       "   RainTomorrow  \n",
       "0            No  \n",
       "1            No  \n",
       "2            No  \n",
       "3            No  \n",
       "4            No  \n",
       "\n",
       "[5 rows x 23 columns]"
      ]
     },
     "execution_count": 3,
     "metadata": {},
     "output_type": "execute_result"
    }
   ],
   "source": [
    "data.head()"
   ]
  },
  {
   "cell_type": "markdown",
   "id": "5f95a8e7",
   "metadata": {},
   "source": [
    "# Separating Features and Target Variable"
   ]
  },
  {
   "cell_type": "code",
   "execution_count": 4,
   "id": "99589a3a",
   "metadata": {},
   "outputs": [],
   "source": [
    "X = data.iloc[:,:-1] "
   ]
  },
  {
   "cell_type": "code",
   "execution_count": 5,
   "id": "c7b2cecc",
   "metadata": {},
   "outputs": [
    {
     "name": "stdout",
     "output_type": "stream",
     "text": [
      "Date              object\n",
      "Location          object\n",
      "MinTemp          float64\n",
      "MaxTemp          float64\n",
      "Rainfall         float64\n",
      "Evaporation      float64\n",
      "Sunshine         float64\n",
      "WindGustDir       object\n",
      "WindGustSpeed    float64\n",
      "WindDir9am        object\n",
      "WindDir3pm        object\n",
      "WindSpeed9am     float64\n",
      "WindSpeed3pm     float64\n",
      "Humidity9am      float64\n",
      "Humidity3pm      float64\n",
      "Pressure9am      float64\n",
      "Pressure3pm      float64\n",
      "Cloud9am         float64\n",
      "Cloud3pm         float64\n",
      "Temp9am          float64\n",
      "Temp3pm          float64\n",
      "RainToday         object\n",
      "dtype: object\n"
     ]
    }
   ],
   "source": [
    "X\n",
    "print(X.dtypes)"
   ]
  },
  {
   "cell_type": "code",
   "execution_count": 6,
   "id": "e3dfa287",
   "metadata": {},
   "outputs": [],
   "source": [
    "Y = data.iloc[:,-1]"
   ]
  },
  {
   "cell_type": "code",
   "execution_count": 7,
   "id": "4fd983b0",
   "metadata": {},
   "outputs": [
    {
     "data": {
      "text/plain": [
       "0          No\n",
       "1          No\n",
       "2          No\n",
       "3          No\n",
       "4          No\n",
       "         ... \n",
       "145455     No\n",
       "145456     No\n",
       "145457     No\n",
       "145458     No\n",
       "145459    Yes\n",
       "Name: RainTomorrow, Length: 145460, dtype: object"
      ]
     },
     "execution_count": 7,
     "metadata": {},
     "output_type": "execute_result"
    }
   ],
   "source": [
    "Y"
   ]
  },
  {
   "cell_type": "markdown",
   "id": "68398437",
   "metadata": {},
   "source": [
    "# Handling Missing data"
   ]
  },
  {
   "cell_type": "code",
   "execution_count": 8,
   "id": "b8fd5dfe",
   "metadata": {},
   "outputs": [],
   "source": [
    "import numpy as np\n",
    "from sklearn.impute import SimpleImputer\n",
    "imp_mean = SimpleImputer(missing_values = np.nan , strategy = 'mean')"
   ]
  },
  {
   "cell_type": "code",
   "execution_count": 9,
   "id": "f9aca149",
   "metadata": {},
   "outputs": [],
   "source": [
    "# numerical_cols = [2,3,4,5,6,8,11,12,13,14,15,16,17,18,19,20]   # creating a list of columns whose value is numeric\n",
    "# numerical_cols"
   ]
  },
  {
   "cell_type": "code",
   "execution_count": 10,
   "id": "04cbc8cf",
   "metadata": {},
   "outputs": [
    {
     "data": {
      "text/plain": [
       "[2, 3, 4, 5, 6, 8, 11, 12, 13, 14, 15, 16, 17, 18, 19, 20]"
      ]
     },
     "execution_count": 10,
     "metadata": {},
     "output_type": "execute_result"
    }
   ],
   "source": [
    "# General ways to split columns whose value is numeric \n",
    "\n",
    "numerical_cols = list(np.where((X.dtypes == np.int64) | (X.dtypes == np.float64))[0])\n",
    "#                   list(np.where((X.dtypes == np.int64) | (X.dtypes == np.float64)))\n",
    "\n",
    "numerical_cols"
   ]
  },
  {
   "cell_type": "code",
   "execution_count": 11,
   "id": "2e4618fe",
   "metadata": {},
   "outputs": [
    {
     "data": {
      "text/plain": [
       "SimpleImputer()"
      ]
     },
     "execution_count": 11,
     "metadata": {},
     "output_type": "execute_result"
    }
   ],
   "source": [
    "imp_mean.fit(X.iloc[:,numerical_cols]) # now, fitting mean value in place of nan values based on the column which have numeric values"
   ]
  },
  {
   "cell_type": "code",
   "execution_count": 12,
   "id": "2c7b434a",
   "metadata": {},
   "outputs": [],
   "source": [
    "X.iloc[:,numerical_cols] = imp_mean.transform(X.iloc[:,numerical_cols]) # updating/transforming the actual data i.e, X"
   ]
  },
  {
   "cell_type": "code",
   "execution_count": 13,
   "id": "06515c29",
   "metadata": {},
   "outputs": [
    {
     "name": "stdout",
     "output_type": "stream",
     "text": [
      "              Date Location  MinTemp    MaxTemp  Rainfall  Evaporation  \\\n",
      "0       01-12-2008   Albury     13.4  22.900000       0.6     5.468232   \n",
      "1       02-12-2008   Albury      7.4  25.100000       0.0     5.468232   \n",
      "2       03-12-2008   Albury     12.9  25.700000       0.0     5.468232   \n",
      "3       04-12-2008   Albury      9.2  28.000000       0.0     5.468232   \n",
      "4       05-12-2008   Albury     17.5  32.300000       1.0     5.468232   \n",
      "...            ...      ...      ...        ...       ...          ...   \n",
      "145455  21-06-2017    Uluru      2.8  23.400000       0.0     5.468232   \n",
      "145456  22-06-2017    Uluru      3.6  25.300000       0.0     5.468232   \n",
      "145457  23-06-2017    Uluru      5.4  26.900000       0.0     5.468232   \n",
      "145458  24-06-2017    Uluru      7.8  27.000000       0.0     5.468232   \n",
      "145459  25-06-2017    Uluru     14.9  23.221348       0.0     5.468232   \n",
      "\n",
      "        Sunshine WindGustDir  WindGustSpeed WindDir9am  ... WindSpeed3pm  \\\n",
      "0       7.611178           W       44.00000          W  ...         24.0   \n",
      "1       7.611178         WNW       44.00000        NNW  ...         22.0   \n",
      "2       7.611178         WSW       46.00000          W  ...         26.0   \n",
      "3       7.611178          NE       24.00000         SE  ...          9.0   \n",
      "4       7.611178           W       41.00000        ENE  ...         20.0   \n",
      "...          ...         ...            ...        ...  ...          ...   \n",
      "145455  7.611178           E       31.00000         SE  ...         11.0   \n",
      "145456  7.611178         NNW       22.00000         SE  ...          9.0   \n",
      "145457  7.611178           N       37.00000         SE  ...          9.0   \n",
      "145458  7.611178          SE       28.00000        SSE  ...          7.0   \n",
      "145459  7.611178         NaN       40.03523        ESE  ...         17.0   \n",
      "\n",
      "        Humidity9am  Humidity3pm  Pressure9am  Pressure3pm  Cloud9am  \\\n",
      "0              71.0         22.0       1007.7       1007.1  8.000000   \n",
      "1              44.0         25.0       1010.6       1007.8  4.447461   \n",
      "2              38.0         30.0       1007.6       1008.7  4.447461   \n",
      "3              45.0         16.0       1017.6       1012.8  4.447461   \n",
      "4              82.0         33.0       1010.8       1006.0  7.000000   \n",
      "...             ...          ...          ...          ...       ...   \n",
      "145455         51.0         24.0       1024.6       1020.3  4.447461   \n",
      "145456         56.0         21.0       1023.5       1019.1  4.447461   \n",
      "145457         53.0         24.0       1021.0       1016.8  4.447461   \n",
      "145458         51.0         24.0       1019.4       1016.5  3.000000   \n",
      "145459         62.0         36.0       1020.2       1017.9  8.000000   \n",
      "\n",
      "        Cloud3pm  Temp9am  Temp3pm  RainToday  \n",
      "0        4.50993     16.9     21.8         No  \n",
      "1        4.50993     17.2     24.3         No  \n",
      "2        2.00000     21.0     23.2         No  \n",
      "3        4.50993     18.1     26.5         No  \n",
      "4        8.00000     17.8     29.7         No  \n",
      "...          ...      ...      ...        ...  \n",
      "145455   4.50993     10.1     22.4         No  \n",
      "145456   4.50993     10.9     24.5         No  \n",
      "145457   4.50993     12.5     26.1         No  \n",
      "145458   2.00000     15.1     26.0         No  \n",
      "145459   8.00000     15.0     20.9         No  \n",
      "\n",
      "[145460 rows x 22 columns]\n"
     ]
    }
   ],
   "source": [
    "print(X)"
   ]
  },
  {
   "cell_type": "markdown",
   "id": "86a9a144",
   "metadata": {},
   "source": [
    "# Handling Missing String data"
   ]
  },
  {
   "cell_type": "code",
   "execution_count": 14,
   "id": "dae8c4e3",
   "metadata": {},
   "outputs": [
    {
     "name": "stdout",
     "output_type": "stream",
     "text": [
      "       Location  MinTemp    MaxTemp  Rainfall  Evaporation  Sunshine  \\\n",
      "0        Albury     13.4  22.900000       0.6     5.468232  7.611178   \n",
      "1        Albury      7.4  25.100000       0.0     5.468232  7.611178   \n",
      "2        Albury     12.9  25.700000       0.0     5.468232  7.611178   \n",
      "3        Albury      9.2  28.000000       0.0     5.468232  7.611178   \n",
      "4        Albury     17.5  32.300000       1.0     5.468232  7.611178   \n",
      "...         ...      ...        ...       ...          ...       ...   \n",
      "145455    Uluru      2.8  23.400000       0.0     5.468232  7.611178   \n",
      "145456    Uluru      3.6  25.300000       0.0     5.468232  7.611178   \n",
      "145457    Uluru      5.4  26.900000       0.0     5.468232  7.611178   \n",
      "145458    Uluru      7.8  27.000000       0.0     5.468232  7.611178   \n",
      "145459    Uluru     14.9  23.221348       0.0     5.468232  7.611178   \n",
      "\n",
      "       WindGustDir  WindGustSpeed WindDir9am WindDir3pm  ...  WindSpeed3pm  \\\n",
      "0                W       44.00000          W        WNW  ...          24.0   \n",
      "1              WNW       44.00000        NNW        WSW  ...          22.0   \n",
      "2              WSW       46.00000          W        WSW  ...          26.0   \n",
      "3               NE       24.00000         SE          E  ...           9.0   \n",
      "4                W       41.00000        ENE         NW  ...          20.0   \n",
      "...            ...            ...        ...        ...  ...           ...   \n",
      "145455           E       31.00000         SE        ENE  ...          11.0   \n",
      "145456         NNW       22.00000         SE          N  ...           9.0   \n",
      "145457           N       37.00000         SE        WNW  ...           9.0   \n",
      "145458          SE       28.00000        SSE          N  ...           7.0   \n",
      "145459         NaN       40.03523        ESE        ESE  ...          17.0   \n",
      "\n",
      "        Humidity9am  Humidity3pm  Pressure9am  Pressure3pm  Cloud9am  \\\n",
      "0              71.0         22.0       1007.7       1007.1  8.000000   \n",
      "1              44.0         25.0       1010.6       1007.8  4.447461   \n",
      "2              38.0         30.0       1007.6       1008.7  4.447461   \n",
      "3              45.0         16.0       1017.6       1012.8  4.447461   \n",
      "4              82.0         33.0       1010.8       1006.0  7.000000   \n",
      "...             ...          ...          ...          ...       ...   \n",
      "145455         51.0         24.0       1024.6       1020.3  4.447461   \n",
      "145456         56.0         21.0       1023.5       1019.1  4.447461   \n",
      "145457         53.0         24.0       1021.0       1016.8  4.447461   \n",
      "145458         51.0         24.0       1019.4       1016.5  3.000000   \n",
      "145459         62.0         36.0       1020.2       1017.9  8.000000   \n",
      "\n",
      "        Cloud3pm  Temp9am  Temp3pm  RainToday  \n",
      "0        4.50993     16.9     21.8         No  \n",
      "1        4.50993     17.2     24.3         No  \n",
      "2        2.00000     21.0     23.2         No  \n",
      "3        4.50993     18.1     26.5         No  \n",
      "4        8.00000     17.8     29.7         No  \n",
      "...          ...      ...      ...        ...  \n",
      "145455   4.50993     10.1     22.4         No  \n",
      "145456   4.50993     10.9     24.5         No  \n",
      "145457   4.50993     12.5     26.1         No  \n",
      "145458   2.00000     15.1     26.0         No  \n",
      "145459   8.00000     15.0     20.9         No  \n",
      "\n",
      "[145460 rows x 21 columns]\n"
     ]
    }
   ],
   "source": [
    "X.drop('Date',axis =1, inplace =True )\n",
    "print(X)"
   ]
  },
  {
   "cell_type": "code",
   "execution_count": 15,
   "id": "5e3495e2",
   "metadata": {},
   "outputs": [],
   "source": [
    "imp_mean = SimpleImputer(missing_values = np.nan , strategy = 'most_frequent')"
   ]
  },
  {
   "cell_type": "code",
   "execution_count": 16,
   "id": "c2bf2209",
   "metadata": {},
   "outputs": [],
   "source": [
    "# string_cols = [1,7,9,10,21] # manually creating list of columns which has String Data"
   ]
  },
  {
   "cell_type": "code",
   "execution_count": 17,
   "id": "e24f2cf3",
   "metadata": {},
   "outputs": [
    {
     "data": {
      "text/plain": [
       "[0, 6, 8, 9, 20]"
      ]
     },
     "execution_count": 17,
     "metadata": {},
     "output_type": "execute_result"
    }
   ],
   "source": [
    "# General way of creating list of columns which has String Data\n",
    "string_cols = list((np.where(X.dtypes ==object))[0])\n",
    "string_cols  "
   ]
  },
  {
   "cell_type": "code",
   "execution_count": 18,
   "id": "551a0778",
   "metadata": {},
   "outputs": [
    {
     "data": {
      "text/plain": [
       "SimpleImputer(strategy='most_frequent')"
      ]
     },
     "execution_count": 18,
     "metadata": {},
     "output_type": "execute_result"
    }
   ],
   "source": [
    "imp_mean.fit(X.iloc[:,string_cols])"
   ]
  },
  {
   "cell_type": "code",
   "execution_count": 19,
   "id": "e29cefbd",
   "metadata": {},
   "outputs": [],
   "source": [
    "X.iloc[:,string_cols] = imp_mean.transform(X.iloc[:,string_cols])"
   ]
  },
  {
   "cell_type": "code",
   "execution_count": 20,
   "id": "b1af7952",
   "metadata": {},
   "outputs": [],
   "source": [
    "# imp_mean = SimpleImputer(missing_values = np.nan , strategy = 'most_frequent')\n",
    "# imp_mean.fit(Y)\n",
    "# Y = imp_mean.transform(Y)"
   ]
  },
  {
   "cell_type": "code",
   "execution_count": 21,
   "id": "f04145ba",
   "metadata": {},
   "outputs": [
    {
     "data": {
      "text/plain": [
       "Location         0\n",
       "MinTemp          0\n",
       "MaxTemp          0\n",
       "Rainfall         0\n",
       "Evaporation      0\n",
       "Sunshine         0\n",
       "WindGustDir      0\n",
       "WindGustSpeed    0\n",
       "WindDir9am       0\n",
       "WindDir3pm       0\n",
       "WindSpeed9am     0\n",
       "WindSpeed3pm     0\n",
       "Humidity9am      0\n",
       "Humidity3pm      0\n",
       "Pressure9am      0\n",
       "Pressure3pm      0\n",
       "Cloud9am         0\n",
       "Cloud3pm         0\n",
       "Temp9am          0\n",
       "Temp3pm          0\n",
       "RainToday        0\n",
       "dtype: int64"
      ]
     },
     "execution_count": 21,
     "metadata": {},
     "output_type": "execute_result"
    }
   ],
   "source": [
    "# print(X)\n",
    "pd.isnull(X).sum()\n"
   ]
  },
  {
   "cell_type": "code",
   "execution_count": null,
   "id": "f041afde",
   "metadata": {},
   "outputs": [],
   "source": []
  },
  {
   "cell_type": "code",
   "execution_count": 22,
   "id": "765cd0a7",
   "metadata": {},
   "outputs": [],
   "source": [
    "# X.drop('Date',axis =1, inplace =True )\n",
    "# print(X)   \n",
    "#Already i did."
   ]
  },
  {
   "cell_type": "markdown",
   "id": "fc07a0a6",
   "metadata": {},
   "source": [
    "# Label encoding : (commonly used for Target Variable/categorical value)"
   ]
  },
  {
   "cell_type": "code",
   "execution_count": 23,
   "id": "1b9f5236",
   "metadata": {},
   "outputs": [],
   "source": [
    "from sklearn import preprocessing\n",
    "le = preprocessing.LabelEncoder()"
   ]
  },
  {
   "cell_type": "code",
   "execution_count": 24,
   "id": "9bf82a94",
   "metadata": {},
   "outputs": [
    {
     "name": "stdout",
     "output_type": "stream",
     "text": [
      "0          No\n",
      "1          No\n",
      "2          No\n",
      "3          No\n",
      "4          No\n",
      "         ... \n",
      "145455     No\n",
      "145456     No\n",
      "145457     No\n",
      "145458     No\n",
      "145459    Yes\n",
      "Name: RainTomorrow, Length: 145460, dtype: object\n"
     ]
    }
   ],
   "source": [
    "print(Y)"
   ]
  },
  {
   "cell_type": "code",
   "execution_count": 25,
   "id": "ffe0fe3f",
   "metadata": {},
   "outputs": [
    {
     "data": {
      "text/plain": [
       "LabelEncoder()"
      ]
     },
     "execution_count": 25,
     "metadata": {},
     "output_type": "execute_result"
    }
   ],
   "source": [
    "le.fit(Y)"
   ]
  },
  {
   "cell_type": "code",
   "execution_count": 26,
   "id": "5d6cadda",
   "metadata": {},
   "outputs": [],
   "source": [
    "Y = le.transform(Y)"
   ]
  },
  {
   "cell_type": "code",
   "execution_count": 27,
   "id": "a68f1274",
   "metadata": {},
   "outputs": [
    {
     "name": "stdout",
     "output_type": "stream",
     "text": [
      "145460\n"
     ]
    }
   ],
   "source": [
    "print(len(Y))"
   ]
  },
  {
   "cell_type": "code",
   "execution_count": 28,
   "id": "c85a24fb",
   "metadata": {},
   "outputs": [],
   "source": [
    "# print(data['RainTomorrow'].unique())\n",
    "# print(data['RainTomorrow'].nunique())\n",
    "# print(data['RainTomorrow'].value_counts())\n",
    "# print(data['RainTomorrow'].isnull())\n",
    "# print(data['RainTomorrow'].notnull())\n",
    "\n"
   ]
  },
  {
   "cell_type": "markdown",
   "id": "460590f4",
   "metadata": {},
   "source": [
    "# One Hot Encoding"
   ]
  },
  {
   "cell_type": "code",
   "execution_count": 29,
   "id": "1e7c1725",
   "metadata": {},
   "outputs": [],
   "source": [
    "from sklearn.preprocessing import OneHotEncoder\n",
    "from sklearn.compose import ColumnTransformer"
   ]
  },
  {
   "cell_type": "code",
   "execution_count": 30,
   "id": "cb4717d1",
   "metadata": {},
   "outputs": [],
   "source": [
    "ColumnTransformer = ColumnTransformer([('encoder', OneHotEncoder(),[0,6,8,9,20])],remainder = 'passthrough')"
   ]
  },
  {
   "cell_type": "code",
   "execution_count": 31,
   "id": "cc62443d",
   "metadata": {},
   "outputs": [],
   "source": [
    "X = ColumnTransformer.fit_transform(X)"
   ]
  },
  {
   "cell_type": "code",
   "execution_count": 32,
   "id": "819b5659",
   "metadata": {},
   "outputs": [
    {
     "name": "stdout",
     "output_type": "stream",
     "text": [
      "(145460, 115)\n"
     ]
    }
   ],
   "source": [
    "print(X.shape)  # priviously column is 23 but after OneHotEncoding it gets increases into 115"
   ]
  },
  {
   "cell_type": "markdown",
   "id": "e8b59117",
   "metadata": {},
   "source": [
    "# OverSampling"
   ]
  },
  {
   "cell_type": "code",
   "execution_count": 33,
   "id": "d9607c3b",
   "metadata": {},
   "outputs": [],
   "source": [
    "from sklearn.datasets import make_classification\n",
    "from imblearn.over_sampling import RandomOverSampler "
   ]
  },
  {
   "cell_type": "code",
   "execution_count": 34,
   "id": "6f8aea48",
   "metadata": {},
   "outputs": [],
   "source": [
    "from collections import Counter"
   ]
  },
  {
   "cell_type": "code",
   "execution_count": 35,
   "id": "854f9534",
   "metadata": {},
   "outputs": [
    {
     "data": {
      "text/plain": [
       "Counter({0: 110315, 1: 35145})"
      ]
     },
     "execution_count": 35,
     "metadata": {},
     "output_type": "execute_result"
    }
   ],
   "source": [
    "Counter(Y)"
   ]
  },
  {
   "cell_type": "code",
   "execution_count": 36,
   "id": "3372e10f",
   "metadata": {},
   "outputs": [],
   "source": [
    "rus = RandomOverSampler(random_state = 42)\n",
    "X,Y = rus.fit_resample(X, Y)"
   ]
  },
  {
   "cell_type": "markdown",
   "id": "02ab290e",
   "metadata": {},
   "source": [
    "# Train test split"
   ]
  },
  {
   "cell_type": "code",
   "execution_count": 37,
   "id": "75226ae8",
   "metadata": {},
   "outputs": [],
   "source": [
    "import numpy as np\n",
    "from sklearn.model_selection import train_test_split"
   ]
  },
  {
   "cell_type": "code",
   "execution_count": 38,
   "id": "6f104f35",
   "metadata": {},
   "outputs": [],
   "source": [
    "X_train, X_test, y_train, y_test = train_test_split(X, Y, test_size =0.2, random_state =1)"
   ]
  },
  {
   "cell_type": "code",
   "execution_count": 39,
   "id": "2c273b51",
   "metadata": {},
   "outputs": [
    {
     "name": "stdout",
     "output_type": "stream",
     "text": [
      "(176504, 115)\n"
     ]
    }
   ],
   "source": [
    "print(X_train.shape)"
   ]
  },
  {
   "cell_type": "markdown",
   "id": "0027131f",
   "metadata": {},
   "source": [
    "# Feature Scaling"
   ]
  },
  {
   "cell_type": "code",
   "execution_count": 40,
   "id": "bdef2d84",
   "metadata": {},
   "outputs": [],
   "source": [
    "from sklearn import preprocessing"
   ]
  },
  {
   "cell_type": "code",
   "execution_count": 41,
   "id": "d04b5696",
   "metadata": {},
   "outputs": [],
   "source": [
    "sc = preprocessing.StandardScaler(with_mean=False)"
   ]
  },
  {
   "cell_type": "code",
   "execution_count": 42,
   "id": "2d848212",
   "metadata": {},
   "outputs": [
    {
     "data": {
      "text/plain": [
       "StandardScaler(with_mean=False)"
      ]
     },
     "execution_count": 42,
     "metadata": {},
     "output_type": "execute_result"
    }
   ],
   "source": [
    "sc.fit(X_train)"
   ]
  },
  {
   "cell_type": "code",
   "execution_count": 43,
   "id": "097e314e",
   "metadata": {},
   "outputs": [],
   "source": [
    "X_train = sc.transform(X_train)"
   ]
  },
  {
   "cell_type": "code",
   "execution_count": 44,
   "id": "90ec721c",
   "metadata": {},
   "outputs": [
    {
     "name": "stdout",
     "output_type": "stream",
     "text": [
      "(176504, 115)\n"
     ]
    }
   ],
   "source": [
    "print(X_train.shape)"
   ]
  },
  {
   "cell_type": "code",
   "execution_count": 45,
   "id": "9d60db6b",
   "metadata": {},
   "outputs": [],
   "source": [
    "X_test = sc.transform(X_test)"
   ]
  },
  {
   "cell_type": "code",
   "execution_count": 46,
   "id": "6bd466c8",
   "metadata": {},
   "outputs": [
    {
     "name": "stdout",
     "output_type": "stream",
     "text": [
      "(44126, 115)\n"
     ]
    }
   ],
   "source": [
    "print(X_test.shape)"
   ]
  },
  {
   "cell_type": "code",
   "execution_count": null,
   "id": "cac4ff50",
   "metadata": {},
   "outputs": [],
   "source": []
  }
 ],
 "metadata": {
  "kernelspec": {
   "display_name": "Python 3 (ipykernel)",
   "language": "python",
   "name": "python3"
  },
  "language_info": {
   "codemirror_mode": {
    "name": "ipython",
    "version": 3
   },
   "file_extension": ".py",
   "mimetype": "text/x-python",
   "name": "python",
   "nbconvert_exporter": "python",
   "pygments_lexer": "ipython3",
   "version": "3.9.7"
  }
 },
 "nbformat": 4,
 "nbformat_minor": 5
}
